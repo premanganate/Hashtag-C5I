{
 "cells": [
  {
   "cell_type": "code",
   "execution_count": 128,
   "metadata": {
    "execution": {
     "iopub.execute_input": "2025-03-10T20:48:21.740095Z",
     "iopub.status.busy": "2025-03-10T20:48:21.739688Z",
     "iopub.status.idle": "2025-03-10T20:48:28.601312Z",
     "shell.execute_reply": "2025-03-10T20:48:28.600105Z",
     "shell.execute_reply.started": "2025-03-10T20:48:21.739973Z"
    },
    "trusted": true
   },
   "outputs": [
    {
     "name": "stderr",
     "output_type": "stream",
     "text": [
      "huggingface/tokenizers: The current process just got forked, after parallelism has already been used. Disabling parallelism to avoid deadlocks...\n",
      "To disable this warning, you can either:\n",
      "\t- Avoid using `tokenizers` before the fork if possible\n",
      "\t- Explicitly set the environment variable TOKENIZERS_PARALLELISM=(true | false)\n"
     ]
    },
    {
     "name": "stdout",
     "output_type": "stream",
     "text": [
      "Requirement already satisfied: tqdm in /Users/fakiraaqilparvez/.pyenv/versions/3.10.0/lib/python3.10/site-packages (4.67.1)\n",
      "Requirement already satisfied: catboost in /Users/fakiraaqilparvez/.pyenv/versions/3.10.0/lib/python3.10/site-packages (1.2.7)\n",
      "Requirement already satisfied: graphviz in /Users/fakiraaqilparvez/.pyenv/versions/3.10.0/lib/python3.10/site-packages (from catboost) (0.20.3)\n",
      "Requirement already satisfied: matplotlib in /Users/fakiraaqilparvez/.pyenv/versions/3.10.0/lib/python3.10/site-packages (from catboost) (3.10.1)\n",
      "Requirement already satisfied: numpy<2.0,>=1.16.0 in /Users/fakiraaqilparvez/.pyenv/versions/3.10.0/lib/python3.10/site-packages (from catboost) (1.26.4)\n",
      "Requirement already satisfied: pandas>=0.24 in /Users/fakiraaqilparvez/.pyenv/versions/3.10.0/lib/python3.10/site-packages (from catboost) (2.2.3)\n",
      "Requirement already satisfied: scipy in /Users/fakiraaqilparvez/.pyenv/versions/3.10.0/lib/python3.10/site-packages (from catboost) (1.15.2)\n",
      "Requirement already satisfied: plotly in /Users/fakiraaqilparvez/.pyenv/versions/3.10.0/lib/python3.10/site-packages (from catboost) (6.0.0)\n",
      "Requirement already satisfied: six in /Users/fakiraaqilparvez/.pyenv/versions/3.10.0/lib/python3.10/site-packages (from catboost) (1.17.0)\n",
      "Requirement already satisfied: python-dateutil>=2.8.2 in /Users/fakiraaqilparvez/.pyenv/versions/3.10.0/lib/python3.10/site-packages (from pandas>=0.24->catboost) (2.9.0.post0)\n",
      "Requirement already satisfied: pytz>=2020.1 in /Users/fakiraaqilparvez/.pyenv/versions/3.10.0/lib/python3.10/site-packages (from pandas>=0.24->catboost) (2025.1)\n",
      "Requirement already satisfied: tzdata>=2022.7 in /Users/fakiraaqilparvez/.pyenv/versions/3.10.0/lib/python3.10/site-packages (from pandas>=0.24->catboost) (2025.1)\n",
      "Requirement already satisfied: contourpy>=1.0.1 in /Users/fakiraaqilparvez/.pyenv/versions/3.10.0/lib/python3.10/site-packages (from matplotlib->catboost) (1.3.1)\n",
      "Requirement already satisfied: cycler>=0.10 in /Users/fakiraaqilparvez/.pyenv/versions/3.10.0/lib/python3.10/site-packages (from matplotlib->catboost) (0.12.1)\n",
      "Requirement already satisfied: fonttools>=4.22.0 in /Users/fakiraaqilparvez/.pyenv/versions/3.10.0/lib/python3.10/site-packages (from matplotlib->catboost) (4.56.0)\n",
      "Requirement already satisfied: kiwisolver>=1.3.1 in /Users/fakiraaqilparvez/.pyenv/versions/3.10.0/lib/python3.10/site-packages (from matplotlib->catboost) (1.4.8)\n",
      "Requirement already satisfied: packaging>=20.0 in /Users/fakiraaqilparvez/.pyenv/versions/3.10.0/lib/python3.10/site-packages (from matplotlib->catboost) (24.2)\n",
      "Requirement already satisfied: pillow>=8 in /Users/fakiraaqilparvez/.pyenv/versions/3.10.0/lib/python3.10/site-packages (from matplotlib->catboost) (11.1.0)\n",
      "Requirement already satisfied: pyparsing>=2.3.1 in /Users/fakiraaqilparvez/.pyenv/versions/3.10.0/lib/python3.10/site-packages (from matplotlib->catboost) (3.2.1)\n",
      "Requirement already satisfied: narwhals>=1.15.1 in /Users/fakiraaqilparvez/.pyenv/versions/3.10.0/lib/python3.10/site-packages (from plotly->catboost) (1.29.1)\n",
      "Note: you may need to restart the kernel to use updated packages.\n"
     ]
    }
   ],
   "source": [
    "%pip install tqdm catboost"
   ]
  },
  {
   "cell_type": "code",
   "execution_count": 1,
   "metadata": {
    "execution": {
     "iopub.execute_input": "2025-03-10T21:34:05.584612Z",
     "iopub.status.busy": "2025-03-10T21:34:05.584261Z",
     "iopub.status.idle": "2025-03-10T21:34:05.836493Z",
     "shell.execute_reply": "2025-03-10T21:34:05.835407Z",
     "shell.execute_reply.started": "2025-03-10T21:34:05.584585Z"
    },
    "trusted": true
   },
   "outputs": [],
   "source": [
    "import re\n",
    "import numpy as np\n",
    "import pandas as pd\n",
    "import seaborn as sns\n",
    "from datetime import datetime\n",
    "import random\n",
    "import pickle\n",
    "from matplotlib import pyplot as plt\n",
    "\n",
    "import torch\n",
    "import torch.nn as nn\n",
    "import torch.optim as optim\n",
    "from torch.utils.data import Dataset, DataLoader\n",
    "import torch.nn.functional as F\n",
    "\n",
    "\n",
    "import shap\n",
    "import spacy\n",
    "import xgboost as xgb\n",
    "from sklearn.feature_extraction.text import CountVectorizer\n",
    "from sklearn.preprocessing import StandardScaler\n",
    "from sklearn.svm import OneClassSVM\n",
    "from sklearn.model_selection import train_test_split\n",
    "from sklearn.metrics import accuracy_score, confusion_matrix\n",
    "from scipy.spatial.distance import cosine\n",
    "from sentence_transformers import SentenceTransformer, util\n",
    "from transformers import AutoModelForSequenceClassification, AutoTokenizer"
   ]
  },
  {
   "cell_type": "code",
   "execution_count": 2,
   "metadata": {
    "execution": {
     "iopub.execute_input": "2025-03-10T20:49:05.014445Z",
     "iopub.status.busy": "2025-03-10T20:49:05.013574Z",
     "iopub.status.idle": "2025-03-10T20:49:13.890833Z",
     "shell.execute_reply": "2025-03-10T20:49:13.889770Z",
     "shell.execute_reply.started": "2025-03-10T20:49:05.014409Z"
    },
    "trusted": true
   },
   "outputs": [
    {
     "name": "stderr",
     "output_type": "stream",
     "text": [
      "Some weights of the model checkpoint at roberta-base-openai-detector were not used when initializing RobertaForSequenceClassification: ['roberta.pooler.dense.bias', 'roberta.pooler.dense.weight']\n",
      "- This IS expected if you are initializing RobertaForSequenceClassification from the checkpoint of a model trained on another task or with another architecture (e.g. initializing a BertForSequenceClassification model from a BertForPreTraining model).\n",
      "- This IS NOT expected if you are initializing RobertaForSequenceClassification from the checkpoint of a model that you expect to be exactly identical (initializing a BertForSequenceClassification model from a BertForSequenceClassification model).\n"
     ]
    }
   ],
   "source": [
    "# Load models once for efficiency\n",
    "bert_model = SentenceTransformer(\"paraphrase-MiniLM-L3-v2\")  # Lighter SBERT model\n",
    "ai_tokenizer = AutoTokenizer.from_pretrained(\"roberta-base-openai-detector\")\n",
    "ai_model = AutoModelForSequenceClassification.from_pretrained(\"roberta-base-openai-detector\")"
   ]
  },
  {
   "cell_type": "markdown",
   "metadata": {},
   "source": [
    "### Clean Text"
   ]
  },
  {
   "cell_type": "code",
   "execution_count": 131,
   "metadata": {
    "execution": {
     "iopub.execute_input": "2025-03-10T20:49:13.892538Z",
     "iopub.status.busy": "2025-03-10T20:49:13.892126Z",
     "iopub.status.idle": "2025-03-10T20:49:13.916718Z",
     "shell.execute_reply": "2025-03-10T20:49:13.915540Z",
     "shell.execute_reply.started": "2025-03-10T20:49:13.892505Z"
    },
    "trusted": true
   },
   "outputs": [],
   "source": [
    "def clean_text(text):\n",
    "    text = re.sub(r\"[^a-zA-Z0-9\\s]\", \"\", text) \n",
    "    text = text.lower().strip() \n",
    "    return text"
   ]
  },
  {
   "cell_type": "markdown",
   "metadata": {},
   "source": [
    "### Entropy Calculation"
   ]
  },
  {
   "cell_type": "code",
   "execution_count": 132,
   "metadata": {
    "execution": {
     "iopub.execute_input": "2025-03-10T20:49:13.971970Z",
     "iopub.status.busy": "2025-03-10T20:49:13.971594Z",
     "iopub.status.idle": "2025-03-10T20:49:13.995166Z",
     "shell.execute_reply": "2025-03-10T20:49:13.993658Z",
     "shell.execute_reply.started": "2025-03-10T20:49:13.971935Z"
    },
    "trusted": true
   },
   "outputs": [],
   "source": [
    "def calculate_entropy(text):\n",
    "    if not isinstance(text, str) or len(text.strip()) == 0:\n",
    "        return 0  # Return low entropy for empty text\n",
    "    vectorizer = CountVectorizer()\n",
    "    try:\n",
    "        X = vectorizer.fit_transform([text])\n",
    "    except ValueError:  # Catch empty vocabulary error\n",
    "        return 0  \n",
    "    probs = np.array(X.toarray()[0], dtype=np.float32)\n",
    "    if np.sum(probs) == 0:\n",
    "        return 0  # Avoid division by zero\n",
    "    probs = probs / np.sum(probs)\n",
    "    entropy = -np.sum(probs * np.log2(probs))\n",
    "    return entropy"
   ]
  },
  {
   "cell_type": "markdown",
   "metadata": {},
   "source": [
    "### Check Relevance (batched)"
   ]
  },
  {
   "cell_type": "code",
   "execution_count": 133,
   "metadata": {
    "execution": {
     "iopub.execute_input": "2025-03-10T20:49:14.024095Z",
     "iopub.status.busy": "2025-03-10T20:49:14.023625Z",
     "iopub.status.idle": "2025-03-10T20:49:14.046409Z",
     "shell.execute_reply": "2025-03-10T20:49:14.044867Z",
     "shell.execute_reply.started": "2025-03-10T20:49:14.024056Z"
    },
    "trusted": true
   },
   "outputs": [],
   "source": [
    "def check_relevance_batch(responses, expected_context, bert_model):\n",
    "    # Convert single expected_context into an embedding (only once for efficiency)\n",
    "    context_embedding = bert_model.encode(expected_context, convert_to_tensor=True)\n",
    "    \n",
    "    # Encode all responses in a batch\n",
    "    response_embeddings = bert_model.encode(responses, convert_to_tensor=True)\n",
    "    \n",
    "    # Compute cosine similarities in one operation\n",
    "    similarities = util.pytorch_cos_sim(response_embeddings, context_embedding).cpu().numpy()\n",
    "\n",
    "    return similarities #> 0.25  # Returns a NumPy array of similarity scores\n"
   ]
  },
  {
   "cell_type": "markdown",
   "metadata": {},
   "source": [
    "### Detect AI-generated Content"
   ]
  },
  {
   "cell_type": "code",
   "execution_count": 134,
   "metadata": {
    "execution": {
     "iopub.execute_input": "2025-03-10T20:49:14.074353Z",
     "iopub.status.busy": "2025-03-10T20:49:14.073943Z",
     "iopub.status.idle": "2025-03-10T20:49:14.097523Z",
     "shell.execute_reply": "2025-03-10T20:49:14.096164Z",
     "shell.execute_reply.started": "2025-03-10T20:49:14.074318Z"
    },
    "trusted": true
   },
   "outputs": [],
   "source": [
    "def detect_ai_generated(text, ai_tokenizer, ai_model):\n",
    "    if not isinstance(text, str) or text.strip() == \"\":\n",
    "        return False\n",
    "\n",
    "    inputs = ai_tokenizer(text, return_tensors=\"pt\", truncation=True, padding=True, max_length=512)\n",
    "    \n",
    "    with torch.no_grad():\n",
    "        outputs = ai_model(**inputs)\n",
    "\n",
    "    probabilities = torch.nn.functional.softmax(outputs.logits, dim=-1)\n",
    "    ai_probability = probabilities[0][1].item()  # Assuming 1 is the AI-generated class\n",
    "\n",
    "    return ai_probability #> 0.5  # Adjust this threshold as needed\n",
    "\n"
   ]
  },
  {
   "cell_type": "markdown",
   "metadata": {},
   "source": [
    "# CATBOOST"
   ]
  },
  {
   "cell_type": "code",
   "execution_count": 135,
   "metadata": {
    "execution": {
     "iopub.execute_input": "2025-03-10T20:49:14.098873Z",
     "iopub.status.busy": "2025-03-10T20:49:14.098518Z",
     "iopub.status.idle": "2025-03-10T20:49:14.122213Z",
     "shell.execute_reply": "2025-03-10T20:49:14.121129Z",
     "shell.execute_reply.started": "2025-03-10T20:49:14.098841Z"
    },
    "trusted": true
   },
   "outputs": [],
   "source": [
    "from catboost import CatBoostClassifier"
   ]
  },
  {
   "cell_type": "markdown",
   "metadata": {},
   "source": [
    "### Load and Process Data"
   ]
  },
  {
   "cell_type": "code",
   "execution_count": 136,
   "metadata": {
    "execution": {
     "iopub.execute_input": "2025-03-10T20:49:14.123616Z",
     "iopub.status.busy": "2025-03-10T20:49:14.123323Z",
     "iopub.status.idle": "2025-03-10T20:49:14.145253Z",
     "shell.execute_reply": "2025-03-10T20:49:14.144164Z",
     "shell.execute_reply.started": "2025-03-10T20:49:14.123591Z"
    },
    "trusted": true
   },
   "outputs": [],
   "source": [
    "def process_df(sheet_name,training_path=\"Final Data File_Training.xlsx\"):\n",
    "    df = pd.read_excel(training_path,sheet_name=sheet_name)\n",
    "    d = {}\n",
    "    cols = df.columns\n",
    "    \n",
    "    for i in range(len(cols)):\n",
    "        if cols[i].startswith(\"Unnamed\"): \n",
    "            d[cols[i]] = df.iloc[0, i]  \n",
    "    df = df.rename(columns = d)\n",
    "    df.drop([0],axis=0,inplace=True)\n",
    "    d = {}\n",
    "    for i in range(len(cols)):\n",
    "        if cols[i].startswith(\"Q\"): \n",
    "            d[cols[i]] = cols[i][0:cols[i].index(' ')]\n",
    "    df = df.rename(columns=d)\n",
    "    df = df.fillna(\"\")\n",
    "    df['time_taken'] = (df['End Date'] - df['Start Date']).dt.total_seconds()\n",
    "    df.insert(3, 'time_taken', df.pop('time_taken'))\n",
    "    return df"
   ]
  },
  {
   "cell_type": "markdown",
   "metadata": {},
   "source": [
    "### Helper Function to Generate Features"
   ]
  },
  {
   "cell_type": "code",
   "execution_count": 137,
   "metadata": {
    "execution": {
     "iopub.execute_input": "2025-03-10T20:49:14.146777Z",
     "iopub.status.busy": "2025-03-10T20:49:14.146370Z",
     "iopub.status.idle": "2025-03-10T20:49:14.166545Z",
     "shell.execute_reply": "2025-03-10T20:49:14.165141Z",
     "shell.execute_reply.started": "2025-03-10T20:49:14.146666Z"
    },
    "trusted": true
   },
   "outputs": [],
   "source": [
    "def generate_features(df, column_names, column_groups, feature_types=[\"mean\", \"var\", \"interaction\",'ratio']):\n",
    "    new_features = pd.DataFrame(index=df.index)  # Keep index aligned with original DF\n",
    "    \n",
    "    group_name = '_'.join(column_names)\n",
    "    if \"mean\" in feature_types:\n",
    "        new_features[f\"{group_name}_Mean\"] = df[column_groups].mean(axis=1)\n",
    "    \n",
    "    if \"var\" in feature_types:\n",
    "        new_features[f\"{group_name}_Var\"] = df[column_groups].var(axis=1)\n",
    "    \n",
    "    if \"interaction\" in feature_types:\n",
    "        col1 = column_groups[0]\n",
    "        col2 = column_groups[1]\n",
    "        new_features[f\"{col1}_x_{col2}\"] = df[col1] * df[col2]\n",
    "    if \"ratio\" in feature_types:\n",
    "        col1 = column_groups[0]\n",
    "        col2 = column_groups[1]\n",
    "        new_features[f\"{col1}_/_{col2}\"] = df[col1] / df[col2]\n",
    "\n",
    "    return new_features"
   ]
  },
  {
   "cell_type": "markdown",
   "metadata": {},
   "source": [
    "### Apply Feature Engineering"
   ]
  },
  {
   "cell_type": "code",
   "execution_count": 138,
   "metadata": {
    "execution": {
     "iopub.execute_input": "2025-03-10T20:49:14.167733Z",
     "iopub.status.busy": "2025-03-10T20:49:14.167436Z",
     "iopub.status.idle": "2025-03-10T20:49:14.188497Z",
     "shell.execute_reply": "2025-03-10T20:49:14.187211Z",
     "shell.execute_reply.started": "2025-03-10T20:49:14.167709Z"
    },
    "trusted": true
   },
   "outputs": [],
   "source": [
    "def apply_feature_engg(df, column_names, feature_types):\n",
    "    cmp = {'Q1.':'Age','Q2.':'Gender','Q3.':'Urban/Rural','Q4.':'Income','Q9.':'Relevance','Q10.':'Appeal','Q11.':'Differentiation','Q12.':'Believability','Q13.':'Price','Q14.':'Purchase_Intent','Q15.':'Drinking_Frequency'}\n",
    "    cmp = {v: k for k, v in cmp.items()}\n",
    "    print(column_names)\n",
    "    res_df = generate_features(df, column_names, [cmp[i] for i in column_names], feature_types)\n",
    "    return pd.concat([df,res_df], axis=1)\n",
    "    "
   ]
  },
  {
   "cell_type": "markdown",
   "metadata": {},
   "source": [
    "### Binary Encode Categorical Columns"
   ]
  },
  {
   "cell_type": "code",
   "execution_count": 139,
   "metadata": {
    "execution": {
     "iopub.execute_input": "2025-03-10T20:49:14.189956Z",
     "iopub.status.busy": "2025-03-10T20:49:14.189584Z",
     "iopub.status.idle": "2025-03-10T20:49:14.215834Z",
     "shell.execute_reply": "2025-03-10T20:49:14.214626Z",
     "shell.execute_reply.started": "2025-03-10T20:49:14.189925Z"
    },
    "trusted": true
   },
   "outputs": [],
   "source": [
    "def binary_encode_dataframe(df, categorical_cols):\n",
    "    binary_encoded_dfs = []\n",
    "    \n",
    "    for col in categorical_cols:\n",
    "        unique_vals = df[col].unique()\n",
    "        mapping = {val: idx for idx, val in enumerate(unique_vals)}  # Label Encoding\n",
    "        max_bits = len(bin(len(mapping) - 1)[2:])  # Find required bits\n",
    "\n",
    "        binary_encoded = df[col].map(mapping).apply(lambda x: list(map(int, bin(x)[2:].zfill(max_bits))))\n",
    "        binary_df = pd.DataFrame(binary_encoded.tolist(), columns=[f\"{col}bin{i}\" for i in range(max_bits)], index=df.index)\n",
    "        binary_encoded_dfs.append(binary_df)\n",
    "\n",
    "    # Concatenate the binary-encoded features with the original numerical features\n",
    "    df_encoded = pd.concat([df.drop(columns=categorical_cols)] + binary_encoded_dfs, axis=1)\n",
    "    \n",
    "    return df_encoded"
   ]
  },
  {
   "cell_type": "markdown",
   "metadata": {},
   "source": [
    "### Detect Copy Pasted Content (across responses of a single person)"
   ]
  },
  {
   "cell_type": "code",
   "execution_count": 140,
   "metadata": {
    "execution": {
     "iopub.execute_input": "2025-03-10T20:49:14.217605Z",
     "iopub.status.busy": "2025-03-10T20:49:14.217297Z",
     "iopub.status.idle": "2025-03-10T20:49:14.240716Z",
     "shell.execute_reply": "2025-03-10T20:49:14.239401Z",
     "shell.execute_reply.started": "2025-03-10T20:49:14.217580Z"
    },
    "trusted": true
   },
   "outputs": [],
   "source": [
    "def detect_copy_paste(df, bert_model):\n",
    "    similarity_results = []\n",
    "    \n",
    "    # Get all text columns dynamically\n",
    "    text_columns = ['Q16A.','Q16B.'] # df.select_dtypes(include=['object']).columns.tolist() \n",
    "    \n",
    "    for idx, row in df.iterrows():\n",
    "        try:\n",
    "            # Get responses for text columns only\n",
    "            responses = row[text_columns].astype(str).tolist()\n",
    "            \n",
    "            # Encode responses using pre-trained BERT model\n",
    "            embeddings = bert_model.encode(responses, convert_to_tensor=True)\n",
    "            \n",
    "            # Compute cosine similarities\n",
    "            cosine_scores = util.pytorch_cos_sim(embeddings, embeddings)\n",
    "            \n",
    "            # Get upper triangle values (excluding diagonal)\n",
    "            n = len(responses)\n",
    "            upper_triangle_values = [cosine_scores[i][j].item() \n",
    "                                   for i in range(n) for j in range(i+1, n)]\n",
    "            \n",
    "        except Exception as e:\n",
    "            print(f\"Error processing responder {idx}: {str(e)}\")\n",
    "            upper_triangle_values = [0.0] * (len(text_columns) * (len(text_columns)-1)) // 2\n",
    "            \n",
    "        similarity_results.append(upper_triangle_values)\n",
    "    \n",
    "    # Generate column names for pairs of text questions\n",
    "    question_pairs = [f\"sim_{text_columns[i]}_{text_columns[j]}\" \n",
    "                     for i in range(len(text_columns)) for j in range(i+1, len(text_columns))]\n",
    "    \n",
    "    return pd.DataFrame(similarity_results, columns=question_pairs, index=df.index)\n",
    "\n",
    "#scalable code"
   ]
  },
  {
   "cell_type": "markdown",
   "metadata": {},
   "source": [
    "### Apply Processing to Sheet 1"
   ]
  },
  {
   "cell_type": "code",
   "execution_count": 141,
   "metadata": {
    "execution": {
     "iopub.execute_input": "2025-03-10T20:49:14.242344Z",
     "iopub.status.busy": "2025-03-10T20:49:14.241908Z",
     "iopub.status.idle": "2025-03-10T20:49:16.456155Z",
     "shell.execute_reply": "2025-03-10T20:49:16.454716Z",
     "shell.execute_reply.started": "2025-03-10T20:49:14.242315Z"
    },
    "trusted": true
   },
   "outputs": [
    {
     "name": "stderr",
     "output_type": "stream",
     "text": [
      "/var/folders/sl/kmcbrl6d3m72vgm_37_mw72w0000gn/T/ipykernel_20851/3893371241.py:16: FutureWarning: Downcasting object dtype arrays on .fillna, .ffill, .bfill is deprecated and will change in a future version. Call result.infer_objects(copy=False) instead. To opt-in to the future behavior, set `pd.set_option('future.no_silent_downcasting', True)`\n",
      "  df = df.fillna(\"\")\n"
     ]
    },
    {
     "data": {
      "text/html": [
       "<div>\n",
       "<style scoped>\n",
       "    .dataframe tbody tr th:only-of-type {\n",
       "        vertical-align: middle;\n",
       "    }\n",
       "\n",
       "    .dataframe tbody tr th {\n",
       "        vertical-align: top;\n",
       "    }\n",
       "\n",
       "    .dataframe thead th {\n",
       "        text-align: right;\n",
       "    }\n",
       "</style>\n",
       "<table border=\"1\" class=\"dataframe\">\n",
       "  <thead>\n",
       "    <tr style=\"text-align: right;\">\n",
       "      <th></th>\n",
       "      <th>Unique ID</th>\n",
       "      <th>Start Date</th>\n",
       "      <th>End Date</th>\n",
       "      <th>time_taken</th>\n",
       "      <th>Q1.</th>\n",
       "      <th>Q2.</th>\n",
       "      <th>Q3.</th>\n",
       "      <th>Q4.</th>\n",
       "      <th>Q6</th>\n",
       "      <th>Flavored/Mixed Beer</th>\n",
       "      <th>...</th>\n",
       "      <th>Q13.</th>\n",
       "      <th>Q14.</th>\n",
       "      <th>Q15.</th>\n",
       "      <th>Q16A.</th>\n",
       "      <th>Q16B.</th>\n",
       "      <th>Q17.</th>\n",
       "      <th>Q18_1</th>\n",
       "      <th>Q18_2</th>\n",
       "      <th>Q18_3</th>\n",
       "      <th>OE_Quality_Flag</th>\n",
       "    </tr>\n",
       "  </thead>\n",
       "  <tbody>\n",
       "    <tr>\n",
       "      <th>1</th>\n",
       "      <td>3.0</td>\n",
       "      <td>2024-10-11 09:43:37</td>\n",
       "      <td>2024-10-11 09:53:40</td>\n",
       "      <td>603.0</td>\n",
       "      <td>60.0</td>\n",
       "      <td>2.0</td>\n",
       "      <td>3.0</td>\n",
       "      <td>12.0</td>\n",
       "      <td>1</td>\n",
       "      <td>0</td>\n",
       "      <td>...</td>\n",
       "      <td>3.0</td>\n",
       "      <td>2.0</td>\n",
       "      <td>2.0</td>\n",
       "      <td>the packaging</td>\n",
       "      <td>nothing</td>\n",
       "      <td>1.0</td>\n",
       "      <td></td>\n",
       "      <td></td>\n",
       "      <td></td>\n",
       "      <td>0.0</td>\n",
       "    </tr>\n",
       "    <tr>\n",
       "      <th>2</th>\n",
       "      <td>5.0</td>\n",
       "      <td>2024-10-11 09:42:41</td>\n",
       "      <td>2024-10-11 09:55:49</td>\n",
       "      <td>788.0</td>\n",
       "      <td>61.0</td>\n",
       "      <td>1.0</td>\n",
       "      <td>3.0</td>\n",
       "      <td>3.0</td>\n",
       "      <td>1</td>\n",
       "      <td>0</td>\n",
       "      <td>...</td>\n",
       "      <td>3.0</td>\n",
       "      <td>5.0</td>\n",
       "      <td>4.0</td>\n",
       "      <td>It's a good and trusted brand.</td>\n",
       "      <td>It's seem some what generic.</td>\n",
       "      <td>2.0</td>\n",
       "      <td>Heineken</td>\n",
       "      <td>Miller Lite</td>\n",
       "      <td>Budwieser</td>\n",
       "      <td>0.0</td>\n",
       "    </tr>\n",
       "    <tr>\n",
       "      <th>3</th>\n",
       "      <td>6.0</td>\n",
       "      <td>2024-10-11 09:46:20</td>\n",
       "      <td>2024-10-11 09:56:42</td>\n",
       "      <td>622.0</td>\n",
       "      <td>58.0</td>\n",
       "      <td>1.0</td>\n",
       "      <td>1.0</td>\n",
       "      <td>8.0</td>\n",
       "      <td>1</td>\n",
       "      <td>0</td>\n",
       "      <td>...</td>\n",
       "      <td>3.0</td>\n",
       "      <td>1.0</td>\n",
       "      <td>0.0</td>\n",
       "      <td>Just that it is a lager beer</td>\n",
       "      <td>I don't like Anheiser Busch and their values a...</td>\n",
       "      <td>1.0</td>\n",
       "      <td></td>\n",
       "      <td></td>\n",
       "      <td></td>\n",
       "      <td>0.0</td>\n",
       "    </tr>\n",
       "    <tr>\n",
       "      <th>4</th>\n",
       "      <td>8.0</td>\n",
       "      <td>2024-10-11 09:47:15</td>\n",
       "      <td>2024-10-11 09:57:19</td>\n",
       "      <td>604.0</td>\n",
       "      <td>55.0</td>\n",
       "      <td>1.0</td>\n",
       "      <td>3.0</td>\n",
       "      <td>11.0</td>\n",
       "      <td>1</td>\n",
       "      <td>0</td>\n",
       "      <td>...</td>\n",
       "      <td>3.0</td>\n",
       "      <td>5.0</td>\n",
       "      <td>7.0</td>\n",
       "      <td>has a less filling effect</td>\n",
       "      <td>no dislike</td>\n",
       "      <td>2.0</td>\n",
       "      <td>michelob ultra</td>\n",
       "      <td>Miller light</td>\n",
       "      <td>corona</td>\n",
       "      <td>0.0</td>\n",
       "    </tr>\n",
       "    <tr>\n",
       "      <th>5</th>\n",
       "      <td>10.0</td>\n",
       "      <td>2024-10-11 09:45:24</td>\n",
       "      <td>2024-10-11 09:57:30</td>\n",
       "      <td>726.0</td>\n",
       "      <td>64.0</td>\n",
       "      <td>1.0</td>\n",
       "      <td>5.0</td>\n",
       "      <td>3.0</td>\n",
       "      <td>1</td>\n",
       "      <td>1</td>\n",
       "      <td>...</td>\n",
       "      <td>5.0</td>\n",
       "      <td>5.0</td>\n",
       "      <td>6.0</td>\n",
       "      <td>Everything</td>\n",
       "      <td>Nothing</td>\n",
       "      <td>3.0</td>\n",
       "      <td>Coors light</td>\n",
       "      <td>Bud</td>\n",
       "      <td>Coors</td>\n",
       "      <td>0.0</td>\n",
       "    </tr>\n",
       "  </tbody>\n",
       "</table>\n",
       "<p>5 rows × 37 columns</p>\n",
       "</div>"
      ],
      "text/plain": [
       "   Unique ID          Start Date            End Date  time_taken   Q1.  Q2.  \\\n",
       "1        3.0 2024-10-11 09:43:37 2024-10-11 09:53:40       603.0  60.0  2.0   \n",
       "2        5.0 2024-10-11 09:42:41 2024-10-11 09:55:49       788.0  61.0  1.0   \n",
       "3        6.0 2024-10-11 09:46:20 2024-10-11 09:56:42       622.0  58.0  1.0   \n",
       "4        8.0 2024-10-11 09:47:15 2024-10-11 09:57:19       604.0  55.0  1.0   \n",
       "5       10.0 2024-10-11 09:45:24 2024-10-11 09:57:30       726.0  64.0  1.0   \n",
       "\n",
       "   Q3.   Q4.  Q6   Flavored/Mixed Beer  ...  Q13.  Q14.  Q15.  \\\n",
       "1  3.0  12.0   1                     0  ...   3.0   2.0   2.0   \n",
       "2  3.0   3.0   1                     0  ...   3.0   5.0   4.0   \n",
       "3  1.0   8.0   1                     0  ...   3.0   1.0   0.0   \n",
       "4  3.0  11.0   1                     0  ...   3.0   5.0   7.0   \n",
       "5  5.0   3.0   1                     1  ...   5.0   5.0   6.0   \n",
       "\n",
       "                            Q16A.  \\\n",
       "1                   the packaging   \n",
       "2  It's a good and trusted brand.   \n",
       "3    Just that it is a lager beer   \n",
       "4       has a less filling effect   \n",
       "5                      Everything   \n",
       "\n",
       "                                               Q16B.  Q17.           Q18_1  \\\n",
       "1                                            nothing   1.0                   \n",
       "2                       It's seem some what generic.   2.0        Heineken   \n",
       "3  I don't like Anheiser Busch and their values a...   1.0                   \n",
       "4                                         no dislike   2.0  michelob ultra   \n",
       "5                                            Nothing   3.0     Coors light   \n",
       "\n",
       "          Q18_2      Q18_3  OE_Quality_Flag  \n",
       "1                                       0.0  \n",
       "2   Miller Lite  Budwieser              0.0  \n",
       "3                                       0.0  \n",
       "4  Miller light     corona              0.0  \n",
       "5           Bud      Coors              0.0  \n",
       "\n",
       "[5 rows x 37 columns]"
      ]
     },
     "execution_count": 141,
     "metadata": {},
     "output_type": "execute_result"
    }
   ],
   "source": [
    "df = process_df(1)\n",
    "df.head()"
   ]
  },
  {
   "cell_type": "code",
   "execution_count": 142,
   "metadata": {
    "execution": {
     "iopub.execute_input": "2025-03-10T20:49:16.458553Z",
     "iopub.status.busy": "2025-03-10T20:49:16.457394Z",
     "iopub.status.idle": "2025-03-10T20:49:16.490415Z",
     "shell.execute_reply": "2025-03-10T20:49:16.488984Z",
     "shell.execute_reply.started": "2025-03-10T20:49:16.458499Z"
    },
    "trusted": true
   },
   "outputs": [
    {
     "name": "stdout",
     "output_type": "stream",
     "text": [
      "<class 'pandas.core.frame.DataFrame'>\n",
      "RangeIndex: 2299 entries, 1 to 2299\n",
      "Data columns (total 37 columns):\n",
      " #   Column                 Non-Null Count  Dtype         \n",
      "---  ------                 --------------  -----         \n",
      " 0   Unique ID              2299 non-null   float64       \n",
      " 1   Start Date             2299 non-null   datetime64[ns]\n",
      " 2   End Date               2299 non-null   datetime64[ns]\n",
      " 3   time_taken             2299 non-null   float64       \n",
      " 4   Q1.                    2299 non-null   float64       \n",
      " 5   Q2.                    2299 non-null   float64       \n",
      " 6   Q3.                    2299 non-null   float64       \n",
      " 7   Q4.                    2299 non-null   float64       \n",
      " 8   Q6                     2299 non-null   int64         \n",
      " 9    Flavored/Mixed Beer   2299 non-null   int64         \n",
      " 10   Non-Alcoholic Beers   2299 non-null   int64         \n",
      " 11   Hard Ciders           2299 non-null   int64         \n",
      " 12   Hard Kombucha         2299 non-null   int64         \n",
      " 13   Wine                  2299 non-null   int64         \n",
      " 14   Hard Beverage         2299 non-null   int64         \n",
      " 15   Distilled Spirits     2299 non-null   int64         \n",
      " 16  Q7.                    2299 non-null   int64         \n",
      " 17  Domestic Regular Beer  2299 non-null   int64         \n",
      " 18  Low Calorie Carb Beer  2299 non-null   int64         \n",
      " 19  Domestic Craft         2299 non-null   int64         \n",
      " 20  Imported Mexican Beer  2299 non-null   int64         \n",
      " 21  Other Imported Beer    2299 non-null   int64         \n",
      " 22  Non-Alcoholic Beer     2299 non-null   int64         \n",
      " 23  Q9.                    2299 non-null   float64       \n",
      " 24  Q10.                   2299 non-null   float64       \n",
      " 25  Q11.                   2299 non-null   float64       \n",
      " 26  Q12.                   2299 non-null   float64       \n",
      " 27  Q13.                   2299 non-null   float64       \n",
      " 28  Q14.                   2299 non-null   float64       \n",
      " 29  Q15.                   2299 non-null   float64       \n",
      " 30  Q16A.                  2299 non-null   object        \n",
      " 31  Q16B.                  2299 non-null   object        \n",
      " 32  Q17.                   2299 non-null   float64       \n",
      " 33  Q18_1                  2299 non-null   object        \n",
      " 34  Q18_2                  2299 non-null   object        \n",
      " 35  Q18_3                  2299 non-null   object        \n",
      " 36  OE_Quality_Flag        2299 non-null   float64       \n",
      "dtypes: datetime64[ns](2), float64(15), int64(15), object(5)\n",
      "memory usage: 664.7+ KB\n"
     ]
    }
   ],
   "source": [
    "df.info()"
   ]
  },
  {
   "cell_type": "markdown",
   "metadata": {},
   "source": [
    "### Apply Feature Engineering to Loaded Data"
   ]
  },
  {
   "cell_type": "code",
   "execution_count": 143,
   "metadata": {
    "execution": {
     "iopub.execute_input": "2025-03-10T20:49:16.492177Z",
     "iopub.status.busy": "2025-03-10T20:49:16.491719Z",
     "iopub.status.idle": "2025-03-10T20:49:16.562219Z",
     "shell.execute_reply": "2025-03-10T20:49:16.561123Z",
     "shell.execute_reply.started": "2025-03-10T20:49:16.492133Z"
    },
    "trusted": true
   },
   "outputs": [
    {
     "name": "stdout",
     "output_type": "stream",
     "text": [
      "['Relevance', 'Appeal', 'Differentiation', 'Believability']\n",
      "['Price', 'Purchase_Intent']\n",
      "['Drinking_Frequency', 'Purchase_Intent']\n",
      "['Income', 'Price']\n"
     ]
    },
    {
     "data": {
      "text/html": [
       "<div>\n",
       "<style scoped>\n",
       "    .dataframe tbody tr th:only-of-type {\n",
       "        vertical-align: middle;\n",
       "    }\n",
       "\n",
       "    .dataframe tbody tr th {\n",
       "        vertical-align: top;\n",
       "    }\n",
       "\n",
       "    .dataframe thead th {\n",
       "        text-align: right;\n",
       "    }\n",
       "</style>\n",
       "<table border=\"1\" class=\"dataframe\">\n",
       "  <thead>\n",
       "    <tr style=\"text-align: right;\">\n",
       "      <th></th>\n",
       "      <th>Unique ID</th>\n",
       "      <th>Start Date</th>\n",
       "      <th>End Date</th>\n",
       "      <th>time_taken</th>\n",
       "      <th>Q1.</th>\n",
       "      <th>Q2.</th>\n",
       "      <th>Q3.</th>\n",
       "      <th>Q4.</th>\n",
       "      <th>Q6</th>\n",
       "      <th>Flavored/Mixed Beer</th>\n",
       "      <th>...</th>\n",
       "      <th>Q18_3</th>\n",
       "      <th>OE_Quality_Flag</th>\n",
       "      <th>Relevance_Appeal_Differentiation_Believability_Mean</th>\n",
       "      <th>Relevance_Appeal_Differentiation_Believability_Var</th>\n",
       "      <th>Price_Purchase_Intent_Mean</th>\n",
       "      <th>Q13._x_Q14.</th>\n",
       "      <th>Drinking_Frequency_Purchase_Intent_Mean</th>\n",
       "      <th>Drinking_Frequency_Purchase_Intent_Var</th>\n",
       "      <th>Income_Price_Mean</th>\n",
       "      <th>Income_Price_Var</th>\n",
       "    </tr>\n",
       "  </thead>\n",
       "  <tbody>\n",
       "    <tr>\n",
       "      <th>1</th>\n",
       "      <td>3.0</td>\n",
       "      <td>2024-10-11 09:43:37</td>\n",
       "      <td>2024-10-11 09:53:40</td>\n",
       "      <td>603.0</td>\n",
       "      <td>60.0</td>\n",
       "      <td>2.0</td>\n",
       "      <td>3.0</td>\n",
       "      <td>12.0</td>\n",
       "      <td>1</td>\n",
       "      <td>0</td>\n",
       "      <td>...</td>\n",
       "      <td></td>\n",
       "      <td>0.0</td>\n",
       "      <td>2.75</td>\n",
       "      <td>0.250000</td>\n",
       "      <td>2.5</td>\n",
       "      <td>6.0</td>\n",
       "      <td>2.0</td>\n",
       "      <td>0.0</td>\n",
       "      <td>7.5</td>\n",
       "      <td>40.5</td>\n",
       "    </tr>\n",
       "    <tr>\n",
       "      <th>2</th>\n",
       "      <td>5.0</td>\n",
       "      <td>2024-10-11 09:42:41</td>\n",
       "      <td>2024-10-11 09:55:49</td>\n",
       "      <td>788.0</td>\n",
       "      <td>61.0</td>\n",
       "      <td>1.0</td>\n",
       "      <td>3.0</td>\n",
       "      <td>3.0</td>\n",
       "      <td>1</td>\n",
       "      <td>0</td>\n",
       "      <td>...</td>\n",
       "      <td>Budwieser</td>\n",
       "      <td>0.0</td>\n",
       "      <td>4.50</td>\n",
       "      <td>0.333333</td>\n",
       "      <td>4.0</td>\n",
       "      <td>15.0</td>\n",
       "      <td>4.5</td>\n",
       "      <td>0.5</td>\n",
       "      <td>3.0</td>\n",
       "      <td>0.0</td>\n",
       "    </tr>\n",
       "    <tr>\n",
       "      <th>3</th>\n",
       "      <td>6.0</td>\n",
       "      <td>2024-10-11 09:46:20</td>\n",
       "      <td>2024-10-11 09:56:42</td>\n",
       "      <td>622.0</td>\n",
       "      <td>58.0</td>\n",
       "      <td>1.0</td>\n",
       "      <td>1.0</td>\n",
       "      <td>8.0</td>\n",
       "      <td>1</td>\n",
       "      <td>0</td>\n",
       "      <td>...</td>\n",
       "      <td></td>\n",
       "      <td>0.0</td>\n",
       "      <td>3.00</td>\n",
       "      <td>0.666667</td>\n",
       "      <td>2.0</td>\n",
       "      <td>3.0</td>\n",
       "      <td>0.5</td>\n",
       "      <td>0.5</td>\n",
       "      <td>5.5</td>\n",
       "      <td>12.5</td>\n",
       "    </tr>\n",
       "    <tr>\n",
       "      <th>4</th>\n",
       "      <td>8.0</td>\n",
       "      <td>2024-10-11 09:47:15</td>\n",
       "      <td>2024-10-11 09:57:19</td>\n",
       "      <td>604.0</td>\n",
       "      <td>55.0</td>\n",
       "      <td>1.0</td>\n",
       "      <td>3.0</td>\n",
       "      <td>11.0</td>\n",
       "      <td>1</td>\n",
       "      <td>0</td>\n",
       "      <td>...</td>\n",
       "      <td>corona</td>\n",
       "      <td>0.0</td>\n",
       "      <td>3.75</td>\n",
       "      <td>0.250000</td>\n",
       "      <td>4.0</td>\n",
       "      <td>15.0</td>\n",
       "      <td>6.0</td>\n",
       "      <td>2.0</td>\n",
       "      <td>7.0</td>\n",
       "      <td>32.0</td>\n",
       "    </tr>\n",
       "    <tr>\n",
       "      <th>5</th>\n",
       "      <td>10.0</td>\n",
       "      <td>2024-10-11 09:45:24</td>\n",
       "      <td>2024-10-11 09:57:30</td>\n",
       "      <td>726.0</td>\n",
       "      <td>64.0</td>\n",
       "      <td>1.0</td>\n",
       "      <td>5.0</td>\n",
       "      <td>3.0</td>\n",
       "      <td>1</td>\n",
       "      <td>1</td>\n",
       "      <td>...</td>\n",
       "      <td>Coors</td>\n",
       "      <td>0.0</td>\n",
       "      <td>4.75</td>\n",
       "      <td>0.250000</td>\n",
       "      <td>5.0</td>\n",
       "      <td>25.0</td>\n",
       "      <td>5.5</td>\n",
       "      <td>0.5</td>\n",
       "      <td>4.0</td>\n",
       "      <td>2.0</td>\n",
       "    </tr>\n",
       "  </tbody>\n",
       "</table>\n",
       "<p>5 rows × 45 columns</p>\n",
       "</div>"
      ],
      "text/plain": [
       "   Unique ID          Start Date            End Date  time_taken   Q1.  Q2.  \\\n",
       "1        3.0 2024-10-11 09:43:37 2024-10-11 09:53:40       603.0  60.0  2.0   \n",
       "2        5.0 2024-10-11 09:42:41 2024-10-11 09:55:49       788.0  61.0  1.0   \n",
       "3        6.0 2024-10-11 09:46:20 2024-10-11 09:56:42       622.0  58.0  1.0   \n",
       "4        8.0 2024-10-11 09:47:15 2024-10-11 09:57:19       604.0  55.0  1.0   \n",
       "5       10.0 2024-10-11 09:45:24 2024-10-11 09:57:30       726.0  64.0  1.0   \n",
       "\n",
       "   Q3.   Q4.  Q6   Flavored/Mixed Beer  ...      Q18_3  OE_Quality_Flag  \\\n",
       "1  3.0  12.0   1                     0  ...                         0.0   \n",
       "2  3.0   3.0   1                     0  ...  Budwieser              0.0   \n",
       "3  1.0   8.0   1                     0  ...                         0.0   \n",
       "4  3.0  11.0   1                     0  ...     corona              0.0   \n",
       "5  5.0   3.0   1                     1  ...      Coors              0.0   \n",
       "\n",
       "   Relevance_Appeal_Differentiation_Believability_Mean  \\\n",
       "1                                               2.75     \n",
       "2                                               4.50     \n",
       "3                                               3.00     \n",
       "4                                               3.75     \n",
       "5                                               4.75     \n",
       "\n",
       "   Relevance_Appeal_Differentiation_Believability_Var  \\\n",
       "1                                           0.250000    \n",
       "2                                           0.333333    \n",
       "3                                           0.666667    \n",
       "4                                           0.250000    \n",
       "5                                           0.250000    \n",
       "\n",
       "   Price_Purchase_Intent_Mean  Q13._x_Q14.  \\\n",
       "1                         2.5          6.0   \n",
       "2                         4.0         15.0   \n",
       "3                         2.0          3.0   \n",
       "4                         4.0         15.0   \n",
       "5                         5.0         25.0   \n",
       "\n",
       "   Drinking_Frequency_Purchase_Intent_Mean  \\\n",
       "1                                      2.0   \n",
       "2                                      4.5   \n",
       "3                                      0.5   \n",
       "4                                      6.0   \n",
       "5                                      5.5   \n",
       "\n",
       "   Drinking_Frequency_Purchase_Intent_Var  Income_Price_Mean  Income_Price_Var  \n",
       "1                                     0.0                7.5              40.5  \n",
       "2                                     0.5                3.0               0.0  \n",
       "3                                     0.5                5.5              12.5  \n",
       "4                                     2.0                7.0              32.0  \n",
       "5                                     0.5                4.0               2.0  \n",
       "\n",
       "[5 rows x 45 columns]"
      ]
     },
     "execution_count": 143,
     "metadata": {},
     "output_type": "execute_result"
    }
   ],
   "source": [
    "df = apply_feature_engg(df, ['Relevance','Appeal','Differentiation','Believability'],['mean','var'])\n",
    "df = apply_feature_engg(df, ['Price','Purchase_Intent'],['mean','interaction'])\n",
    "df = apply_feature_engg(df, ['Drinking_Frequency','Purchase_Intent'],['mean','var'])\n",
    "df = apply_feature_engg(df, ['Income','Price'],['mean','var'])\n",
    "df.head()"
   ]
  },
  {
   "cell_type": "markdown",
   "metadata": {},
   "source": [
    "### Clean text columns and Calculate Entropy (for Gibberish Detection)"
   ]
  },
  {
   "cell_type": "code",
   "execution_count": 144,
   "metadata": {
    "execution": {
     "iopub.execute_input": "2025-03-10T20:49:16.563665Z",
     "iopub.status.busy": "2025-03-10T20:49:16.563363Z",
     "iopub.status.idle": "2025-03-10T20:49:18.947980Z",
     "shell.execute_reply": "2025-03-10T20:49:18.947120Z",
     "shell.execute_reply.started": "2025-03-10T20:49:16.563641Z"
    },
    "trusted": true
   },
   "outputs": [],
   "source": [
    "df['Q16A.'] = df['Q16A.'].apply(lambda x: clean_text(x))\n",
    "df['Q16B.'] = df['Q16B.'].apply(lambda x: clean_text(x))\n",
    "\n",
    "df['gibberish_16A'] = df['Q16A.'].apply(lambda x: calculate_entropy(x))\n",
    "df['gibberish_16B'] = df['Q16B.'].apply(lambda x: calculate_entropy(x))"
   ]
  },
  {
   "cell_type": "markdown",
   "metadata": {},
   "source": [
    "### Detect AI Generated Content from Responses"
   ]
  },
  {
   "cell_type": "code",
   "execution_count": 147,
   "metadata": {
    "execution": {
     "iopub.execute_input": "2025-03-10T20:49:18.949207Z",
     "iopub.status.busy": "2025-03-10T20:49:18.948886Z",
     "iopub.status.idle": "2025-03-10T20:53:39.570050Z",
     "shell.execute_reply": "2025-03-10T20:53:39.568985Z",
     "shell.execute_reply.started": "2025-03-10T20:49:18.949180Z"
    },
    "trusted": true
   },
   "outputs": [
    {
     "data": {
      "application/vnd.jupyter.widget-view+json": {
       "model_id": "2547d9a4e2fb429dbac8ee18fa186268",
       "version_major": 2,
       "version_minor": 0
      },
      "text/plain": [
       "  0%|          | 0/2299 [00:00<?, ?it/s]"
      ]
     },
     "metadata": {},
     "output_type": "display_data"
    },
    {
     "data": {
      "application/vnd.jupyter.widget-view+json": {
       "model_id": "ba552c13520c41108d1656da5664b692",
       "version_major": 2,
       "version_minor": 0
      },
      "text/plain": [
       "  0%|          | 0/2299 [00:00<?, ?it/s]"
      ]
     },
     "metadata": {},
     "output_type": "display_data"
    }
   ],
   "source": [
    "from tqdm.auto import tqdm\n",
    "tqdm.pandas()\n",
    "df['ai_generated_16A'] = df['Q16A.'].progress_apply(lambda x: detect_ai_generated(x, ai_tokenizer, ai_model))\n",
    "df['ai_generated_16B'] = df['Q16B.'].progress_apply(lambda x: detect_ai_generated(x, ai_tokenizer, ai_model))"
   ]
  },
  {
   "cell_type": "code",
   "execution_count": 148,
   "metadata": {
    "execution": {
     "iopub.execute_input": "2025-03-10T20:55:01.737420Z",
     "iopub.status.busy": "2025-03-10T20:55:01.737142Z",
     "iopub.status.idle": "2025-03-10T20:55:01.750295Z",
     "shell.execute_reply": "2025-03-10T20:55:01.749136Z",
     "shell.execute_reply.started": "2025-03-10T20:55:01.737398Z"
    },
    "trusted": true
   },
   "outputs": [],
   "source": [
    "# dft['ai_generated_16A'] = dft['ai_generated_16A'].astype('float')\n",
    "# dft['ai_generated_16B'] = dft['ai_generated_16B'].astype('float')"
   ]
  },
  {
   "cell_type": "markdown",
   "metadata": {},
   "source": [
    "### Check Relevance of Responses to Open Ended Questions"
   ]
  },
  {
   "cell_type": "code",
   "execution_count": 149,
   "metadata": {
    "execution": {
     "iopub.execute_input": "2025-03-10T20:53:39.571622Z",
     "iopub.status.busy": "2025-03-10T20:53:39.571212Z",
     "iopub.status.idle": "2025-03-10T20:53:46.904584Z",
     "shell.execute_reply": "2025-03-10T20:53:46.903652Z",
     "shell.execute_reply.started": "2025-03-10T20:53:39.571580Z"
    },
    "trusted": true
   },
   "outputs": [],
   "source": [
    "q16a_question = \"What is the most important thing you LIKE about the shown concept? This can include anything you would want kept for sure or aspects that might drive you to buy or try it.\"\n",
    "q16b_question = \"What is the most important thing you DISLIKE about the shown concept? This can include general concerns, annoyances, or any aspects of the product that need fixing for this to be more appealing to you.\"\n",
    "\n",
    "df[\"is_relevant_16A\"] = check_relevance_batch(df[\"Q16A.\"].tolist(), q16a_question, bert_model)\n",
    "df[\"is_relevant_16B\"] = check_relevance_batch(df[\"Q16B.\"].tolist(), q16b_question, bert_model)"
   ]
  },
  {
   "cell_type": "markdown",
   "metadata": {},
   "source": [
    "### Detect Copy Pasted Content from Open Ended Responses"
   ]
  },
  {
   "cell_type": "code",
   "execution_count": 150,
   "metadata": {},
   "outputs": [],
   "source": [
    "resdf = detect_copy_paste(df[['Q16A.', 'Q16B.']], bert_model)\n",
    "df = pd.concat([df,resdf], axis = 1)"
   ]
  },
  {
   "cell_type": "markdown",
   "metadata": {},
   "source": [
    "### Prepare columns for Conversion"
   ]
  },
  {
   "cell_type": "code",
   "execution_count": 151,
   "metadata": {
    "execution": {
     "iopub.execute_input": "2025-03-10T20:53:46.906072Z",
     "iopub.status.busy": "2025-03-10T20:53:46.905641Z",
     "iopub.status.idle": "2025-03-10T20:53:46.914328Z",
     "shell.execute_reply": "2025-03-10T20:53:46.913358Z",
     "shell.execute_reply.started": "2025-03-10T20:53:46.906031Z"
    },
    "trusted": true
   },
   "outputs": [
    {
     "data": {
      "text/plain": [
       "[]"
      ]
     },
     "execution_count": 151,
     "metadata": {},
     "output_type": "execute_result"
    }
   ],
   "source": [
    "cols_to_convert = []\n",
    "for i in df.columns[:29]:\n",
    "    if df[i].dtype == \"object\":\n",
    "        cols_to_convert.append(i)\n",
    "cols_to_convert"
   ]
  },
  {
   "cell_type": "markdown",
   "metadata": {},
   "source": [
    "### Prepare to drop Open Ended columns (no longer required)"
   ]
  },
  {
   "cell_type": "code",
   "execution_count": 152,
   "metadata": {
    "execution": {
     "iopub.execute_input": "2025-03-10T20:53:46.915945Z",
     "iopub.status.busy": "2025-03-10T20:53:46.915537Z",
     "iopub.status.idle": "2025-03-10T20:53:46.937514Z",
     "shell.execute_reply": "2025-03-10T20:53:46.936164Z",
     "shell.execute_reply.started": "2025-03-10T20:53:46.915902Z"
    },
    "trusted": true
   },
   "outputs": [
    {
     "data": {
      "text/plain": [
       "['Q16A.', 'Q16B.', 'Q18_1', 'Q18_2', 'Q18_3']"
      ]
     },
     "execution_count": 152,
     "metadata": {},
     "output_type": "execute_result"
    }
   ],
   "source": [
    "cols_to_drop = []\n",
    "for i in df.columns[30:36]:\n",
    "    if df[i].dtype == \"object\":\n",
    "        cols_to_drop.append(i)\n",
    "cols_to_drop"
   ]
  },
  {
   "cell_type": "markdown",
   "metadata": {},
   "source": [
    "### Drop Unnecessary columns"
   ]
  },
  {
   "cell_type": "code",
   "execution_count": 153,
   "metadata": {
    "execution": {
     "iopub.execute_input": "2025-03-10T20:55:00.471392Z",
     "iopub.status.busy": "2025-03-10T20:55:00.470991Z",
     "iopub.status.idle": "2025-03-10T20:55:00.490458Z",
     "shell.execute_reply": "2025-03-10T20:55:00.489248Z",
     "shell.execute_reply.started": "2025-03-10T20:55:00.471360Z"
    },
    "trusted": true
   },
   "outputs": [
    {
     "name": "stdout",
     "output_type": "stream",
     "text": [
      "<class 'pandas.core.frame.DataFrame'>\n",
      "RangeIndex: 2299 entries, 1 to 2299\n",
      "Data columns (total 43 columns):\n",
      " #   Column                                               Non-Null Count  Dtype  \n",
      "---  ------                                               --------------  -----  \n",
      " 0   Q1.                                                  2299 non-null   float64\n",
      " 1   Q2.                                                  2299 non-null   float64\n",
      " 2   Q3.                                                  2299 non-null   float64\n",
      " 3   Q4.                                                  2299 non-null   float64\n",
      " 4   Q6                                                   2299 non-null   int64  \n",
      " 5    Flavored/Mixed Beer                                 2299 non-null   int64  \n",
      " 6    Non-Alcoholic Beers                                 2299 non-null   int64  \n",
      " 7    Hard Ciders                                         2299 non-null   int64  \n",
      " 8    Hard Kombucha                                       2299 non-null   int64  \n",
      " 9    Wine                                                2299 non-null   int64  \n",
      " 10   Hard Beverage                                       2299 non-null   int64  \n",
      " 11   Distilled Spirits                                   2299 non-null   int64  \n",
      " 12  Q7.                                                  2299 non-null   int64  \n",
      " 13  Domestic Regular Beer                                2299 non-null   int64  \n",
      " 14  Low Calorie Carb Beer                                2299 non-null   int64  \n",
      " 15  Domestic Craft                                       2299 non-null   int64  \n",
      " 16  Imported Mexican Beer                                2299 non-null   int64  \n",
      " 17  Other Imported Beer                                  2299 non-null   int64  \n",
      " 18  Non-Alcoholic Beer                                   2299 non-null   int64  \n",
      " 19  Q9.                                                  2299 non-null   float64\n",
      " 20  Q10.                                                 2299 non-null   float64\n",
      " 21  Q11.                                                 2299 non-null   float64\n",
      " 22  Q12.                                                 2299 non-null   float64\n",
      " 23  Q13.                                                 2299 non-null   float64\n",
      " 24  Q14.                                                 2299 non-null   float64\n",
      " 25  Q15.                                                 2299 non-null   float64\n",
      " 26  Q17.                                                 2299 non-null   float64\n",
      " 27  OE_Quality_Flag                                      2299 non-null   float64\n",
      " 28  Relevance_Appeal_Differentiation_Believability_Mean  2299 non-null   float64\n",
      " 29  Relevance_Appeal_Differentiation_Believability_Var   2299 non-null   float64\n",
      " 30  Price_Purchase_Intent_Mean                           2299 non-null   float64\n",
      " 31  Q13._x_Q14.                                          2299 non-null   float64\n",
      " 32  Drinking_Frequency_Purchase_Intent_Mean              2299 non-null   float64\n",
      " 33  Drinking_Frequency_Purchase_Intent_Var               2299 non-null   float64\n",
      " 34  Income_Price_Mean                                    2299 non-null   float64\n",
      " 35  Income_Price_Var                                     2299 non-null   float64\n",
      " 36  gibberish_16A                                        2299 non-null   float64\n",
      " 37  gibberish_16B                                        2299 non-null   float64\n",
      " 38  ai_generated_16A                                     2299 non-null   object \n",
      " 39  ai_generated_16B                                     2299 non-null   object \n",
      " 40  is_relevant_16A                                      2299 non-null   float32\n",
      " 41  is_relevant_16B                                      2299 non-null   float32\n",
      " 42  sim_Q16A._Q16B.                                      2299 non-null   float64\n",
      "dtypes: float32(2), float64(24), int64(15), object(2)\n",
      "memory usage: 754.5+ KB\n"
     ]
    }
   ],
   "source": [
    "df = df.fillna('')\n",
    "dft = df.drop(cols_to_drop+['Start Date', 'End Date', 'Unique ID','time_taken'], axis=1, inplace=False)\n",
    "dft.info()"
   ]
  },
  {
   "cell_type": "markdown",
   "metadata": {},
   "source": [
    "### Use other Sheet for Keeping Categorical columns, Binary Encode first DataFrame"
   ]
  },
  {
   "cell_type": "code",
   "execution_count": 154,
   "metadata": {
    "execution": {
     "iopub.execute_input": "2025-03-10T20:55:00.492827Z",
     "iopub.status.busy": "2025-03-10T20:55:00.492536Z",
     "iopub.status.idle": "2025-03-10T20:55:01.634315Z",
     "shell.execute_reply": "2025-03-10T20:55:01.633200Z",
     "shell.execute_reply.started": "2025-03-10T20:55:00.492801Z"
    },
    "trusted": true
   },
   "outputs": [
    {
     "name": "stdout",
     "output_type": "stream",
     "text": [
      "<class 'pandas.core.frame.DataFrame'>\n",
      "RangeIndex: 2299 entries, 1 to 2299\n",
      "Data columns (total 43 columns):\n",
      " #   Column                                               Non-Null Count  Dtype  \n",
      "---  ------                                               --------------  -----  \n",
      " 0   Q1.                                                  2299 non-null   float64\n",
      " 1   Q2.                                                  2299 non-null   object \n",
      " 2   Q3.                                                  2299 non-null   object \n",
      " 3   Q4.                                                  2299 non-null   object \n",
      " 4   Q6                                                   2299 non-null   int64  \n",
      " 5    Flavored/Mixed Beer                                 2299 non-null   int64  \n",
      " 6    Non-Alcoholic Beers                                 2299 non-null   int64  \n",
      " 7    Hard Ciders                                         2299 non-null   int64  \n",
      " 8    Hard Kombucha                                       2299 non-null   int64  \n",
      " 9    Wine                                                2299 non-null   int64  \n",
      " 10   Hard Beverage                                       2299 non-null   int64  \n",
      " 11   Distilled Spirits                                   2299 non-null   int64  \n",
      " 12  Q7.                                                  2299 non-null   int64  \n",
      " 13  Domestic Regular Beer                                2299 non-null   int64  \n",
      " 14  Low Calorie Carb Beer                                2299 non-null   int64  \n",
      " 15  Domestic Craft                                       2299 non-null   int64  \n",
      " 16  Imported Mexican Beer                                2299 non-null   int64  \n",
      " 17  Other Imported Beer                                  2299 non-null   int64  \n",
      " 18  Non-Alcoholic Beer                                   2299 non-null   int64  \n",
      " 19  Q9.                                                  2299 non-null   object \n",
      " 20  Q10.                                                 2299 non-null   object \n",
      " 21  Q11.                                                 2299 non-null   object \n",
      " 22  Q12.                                                 2299 non-null   object \n",
      " 23  Q13.                                                 2299 non-null   object \n",
      " 24  Q14.                                                 2299 non-null   object \n",
      " 25  Q15.                                                 2299 non-null   object \n",
      " 26  Q17.                                                 2299 non-null   object \n",
      " 27  OE_Quality_Flag                                      2299 non-null   float64\n",
      " 28  Relevance_Appeal_Differentiation_Believability_Mean  2299 non-null   float64\n",
      " 29  Relevance_Appeal_Differentiation_Believability_Var   2299 non-null   float64\n",
      " 30  Price_Purchase_Intent_Mean                           2299 non-null   float64\n",
      " 31  Q13._x_Q14.                                          2299 non-null   float64\n",
      " 32  Drinking_Frequency_Purchase_Intent_Mean              2299 non-null   float64\n",
      " 33  Drinking_Frequency_Purchase_Intent_Var               2299 non-null   float64\n",
      " 34  Income_Price_Mean                                    2299 non-null   float64\n",
      " 35  Income_Price_Var                                     2299 non-null   float64\n",
      " 36  gibberish_16A                                        2299 non-null   float64\n",
      " 37  gibberish_16B                                        2299 non-null   float64\n",
      " 38  ai_generated_16A                                     2299 non-null   object \n",
      " 39  ai_generated_16B                                     2299 non-null   object \n",
      " 40  is_relevant_16A                                      2299 non-null   float32\n",
      " 41  is_relevant_16B                                      2299 non-null   float32\n",
      " 42  sim_Q16A._Q16B.                                      2299 non-null   float64\n",
      "dtypes: float32(2), float64(13), int64(15), object(13)\n",
      "memory usage: 754.5+ KB\n"
     ]
    }
   ],
   "source": [
    "dftt = process_df(0)\n",
    "cols_to_binarize=[]\n",
    "cols_to_binarize.extend(['Q2.','Q3.','Q4.'])\n",
    "for i in range(9,16):\n",
    "    col = 'Q'+str(i)+'.'\n",
    "    cols_to_binarize.append(col)   \n",
    "cols_to_binarize.append('Q17.')\n",
    "for i in cols_to_binarize:\n",
    "    dft[i] = dftt[i]\n",
    "dft.info()"
   ]
  },
  {
   "cell_type": "code",
   "execution_count": 155,
   "metadata": {
    "execution": {
     "iopub.execute_input": "2025-03-10T20:55:01.635767Z",
     "iopub.status.busy": "2025-03-10T20:55:01.635478Z",
     "iopub.status.idle": "2025-03-10T20:55:01.714561Z",
     "shell.execute_reply": "2025-03-10T20:55:01.713551Z",
     "shell.execute_reply.started": "2025-03-10T20:55:01.635742Z"
    },
    "trusted": true
   },
   "outputs": [],
   "source": [
    "dft = binary_encode_dataframe(dft,cols_to_binarize)"
   ]
  },
  {
   "cell_type": "code",
   "execution_count": 156,
   "metadata": {
    "execution": {
     "iopub.execute_input": "2025-03-10T20:55:01.715774Z",
     "iopub.status.busy": "2025-03-10T20:55:01.715472Z",
     "iopub.status.idle": "2025-03-10T20:55:01.736149Z",
     "shell.execute_reply": "2025-03-10T20:55:01.735101Z",
     "shell.execute_reply.started": "2025-03-10T20:55:01.715746Z"
    },
    "trusted": true
   },
   "outputs": [
    {
     "name": "stdout",
     "output_type": "stream",
     "text": [
      "<class 'pandas.core.frame.DataFrame'>\n",
      "RangeIndex: 2299 entries, 1 to 2299\n",
      "Data columns (total 65 columns):\n",
      " #   Column                                               Non-Null Count  Dtype  \n",
      "---  ------                                               --------------  -----  \n",
      " 0   Q1.                                                  2299 non-null   float64\n",
      " 1   Q6                                                   2299 non-null   int64  \n",
      " 2    Flavored/Mixed Beer                                 2299 non-null   int64  \n",
      " 3    Non-Alcoholic Beers                                 2299 non-null   int64  \n",
      " 4    Hard Ciders                                         2299 non-null   int64  \n",
      " 5    Hard Kombucha                                       2299 non-null   int64  \n",
      " 6    Wine                                                2299 non-null   int64  \n",
      " 7    Hard Beverage                                       2299 non-null   int64  \n",
      " 8    Distilled Spirits                                   2299 non-null   int64  \n",
      " 9   Q7.                                                  2299 non-null   int64  \n",
      " 10  Domestic Regular Beer                                2299 non-null   int64  \n",
      " 11  Low Calorie Carb Beer                                2299 non-null   int64  \n",
      " 12  Domestic Craft                                       2299 non-null   int64  \n",
      " 13  Imported Mexican Beer                                2299 non-null   int64  \n",
      " 14  Other Imported Beer                                  2299 non-null   int64  \n",
      " 15  Non-Alcoholic Beer                                   2299 non-null   int64  \n",
      " 16  OE_Quality_Flag                                      2299 non-null   float64\n",
      " 17  Relevance_Appeal_Differentiation_Believability_Mean  2299 non-null   float64\n",
      " 18  Relevance_Appeal_Differentiation_Believability_Var   2299 non-null   float64\n",
      " 19  Price_Purchase_Intent_Mean                           2299 non-null   float64\n",
      " 20  Q13._x_Q14.                                          2299 non-null   float64\n",
      " 21  Drinking_Frequency_Purchase_Intent_Mean              2299 non-null   float64\n",
      " 22  Drinking_Frequency_Purchase_Intent_Var               2299 non-null   float64\n",
      " 23  Income_Price_Mean                                    2299 non-null   float64\n",
      " 24  Income_Price_Var                                     2299 non-null   float64\n",
      " 25  gibberish_16A                                        2299 non-null   float64\n",
      " 26  gibberish_16B                                        2299 non-null   float64\n",
      " 27  ai_generated_16A                                     2299 non-null   object \n",
      " 28  ai_generated_16B                                     2299 non-null   object \n",
      " 29  is_relevant_16A                                      2299 non-null   float32\n",
      " 30  is_relevant_16B                                      2299 non-null   float32\n",
      " 31  sim_Q16A._Q16B.                                      2299 non-null   float64\n",
      " 32  Q2.bin0                                              2299 non-null   int64  \n",
      " 33  Q2.bin1                                              2299 non-null   int64  \n",
      " 34  Q2.bin2                                              2299 non-null   int64  \n",
      " 35  Q3.bin0                                              2299 non-null   int64  \n",
      " 36  Q3.bin1                                              2299 non-null   int64  \n",
      " 37  Q3.bin2                                              2299 non-null   int64  \n",
      " 38  Q4.bin0                                              2299 non-null   int64  \n",
      " 39  Q4.bin1                                              2299 non-null   int64  \n",
      " 40  Q4.bin2                                              2299 non-null   int64  \n",
      " 41  Q4.bin3                                              2299 non-null   int64  \n",
      " 42  Q9.bin0                                              2299 non-null   int64  \n",
      " 43  Q9.bin1                                              2299 non-null   int64  \n",
      " 44  Q9.bin2                                              2299 non-null   int64  \n",
      " 45  Q10.bin0                                             2299 non-null   int64  \n",
      " 46  Q10.bin1                                             2299 non-null   int64  \n",
      " 47  Q10.bin2                                             2299 non-null   int64  \n",
      " 48  Q11.bin0                                             2299 non-null   int64  \n",
      " 49  Q11.bin1                                             2299 non-null   int64  \n",
      " 50  Q11.bin2                                             2299 non-null   int64  \n",
      " 51  Q12.bin0                                             2299 non-null   int64  \n",
      " 52  Q12.bin1                                             2299 non-null   int64  \n",
      " 53  Q13.bin0                                             2299 non-null   int64  \n",
      " 54  Q13.bin1                                             2299 non-null   int64  \n",
      " 55  Q13.bin2                                             2299 non-null   int64  \n",
      " 56  Q14.bin0                                             2299 non-null   int64  \n",
      " 57  Q14.bin1                                             2299 non-null   int64  \n",
      " 58  Q14.bin2                                             2299 non-null   int64  \n",
      " 59  Q15.bin0                                             2299 non-null   int64  \n",
      " 60  Q15.bin1                                             2299 non-null   int64  \n",
      " 61  Q15.bin2                                             2299 non-null   int64  \n",
      " 62  Q15.bin3                                             2299 non-null   int64  \n",
      " 63  Q17.bin0                                             2299 non-null   int64  \n",
      " 64  Q17.bin1                                             2299 non-null   int64  \n",
      "dtypes: float32(2), float64(13), int64(48), object(2)\n",
      "memory usage: 1.1+ MB\n"
     ]
    }
   ],
   "source": [
    "dft.info()"
   ]
  },
  {
   "cell_type": "code",
   "execution_count": 157,
   "metadata": {},
   "outputs": [],
   "source": [
    "dft['ai_generated_16A'] = dft['ai_generated_16A'].astype('float')\n",
    "dft['ai_generated_16B'] = dft['ai_generated_16B'].astype('float')"
   ]
  },
  {
   "cell_type": "markdown",
   "metadata": {},
   "source": [
    "### Prepare Features for CatBoost"
   ]
  },
  {
   "cell_type": "code",
   "execution_count": 158,
   "metadata": {
    "execution": {
     "iopub.execute_input": "2025-03-10T20:55:01.751636Z",
     "iopub.status.busy": "2025-03-10T20:55:01.751335Z",
     "iopub.status.idle": "2025-03-10T20:55:01.778605Z",
     "shell.execute_reply": "2025-03-10T20:55:01.777288Z",
     "shell.execute_reply.started": "2025-03-10T20:55:01.751612Z"
    },
    "trusted": true
   },
   "outputs": [
    {
     "data": {
      "text/plain": [
       "[]"
      ]
     },
     "execution_count": 158,
     "metadata": {},
     "output_type": "execute_result"
    }
   ],
   "source": [
    "cat_features = []\n",
    "for i in dft.columns:\n",
    "    if dft[i].dtype=='object':\n",
    "        cat_features.append(i)\n",
    "cat_features"
   ]
  },
  {
   "cell_type": "code",
   "execution_count": 159,
   "metadata": {
    "execution": {
     "iopub.execute_input": "2025-03-10T20:55:01.808044Z",
     "iopub.status.busy": "2025-03-10T20:55:01.807738Z",
     "iopub.status.idle": "2025-03-10T20:55:01.842418Z",
     "shell.execute_reply": "2025-03-10T20:55:01.840883Z",
     "shell.execute_reply.started": "2025-03-10T20:55:01.807979Z"
    },
    "trusted": true
   },
   "outputs": [
    {
     "name": "stdout",
     "output_type": "stream",
     "text": [
      "<class 'pandas.core.frame.DataFrame'>\n",
      "RangeIndex: 2299 entries, 1 to 2299\n",
      "Data columns (total 65 columns):\n",
      " #   Column                                               Non-Null Count  Dtype  \n",
      "---  ------                                               --------------  -----  \n",
      " 0   Q1.                                                  2299 non-null   float64\n",
      " 1   Q6                                                   2299 non-null   int64  \n",
      " 2    Flavored/Mixed Beer                                 2299 non-null   int64  \n",
      " 3    Non-Alcoholic Beers                                 2299 non-null   int64  \n",
      " 4    Hard Ciders                                         2299 non-null   int64  \n",
      " 5    Hard Kombucha                                       2299 non-null   int64  \n",
      " 6    Wine                                                2299 non-null   int64  \n",
      " 7    Hard Beverage                                       2299 non-null   int64  \n",
      " 8    Distilled Spirits                                   2299 non-null   int64  \n",
      " 9   Q7.                                                  2299 non-null   int64  \n",
      " 10  Domestic Regular Beer                                2299 non-null   int64  \n",
      " 11  Low Calorie Carb Beer                                2299 non-null   int64  \n",
      " 12  Domestic Craft                                       2299 non-null   int64  \n",
      " 13  Imported Mexican Beer                                2299 non-null   int64  \n",
      " 14  Other Imported Beer                                  2299 non-null   int64  \n",
      " 15  Non-Alcoholic Beer                                   2299 non-null   int64  \n",
      " 16  OE_Quality_Flag                                      2299 non-null   float64\n",
      " 17  Relevance_Appeal_Differentiation_Believability_Mean  2299 non-null   float64\n",
      " 18  Relevance_Appeal_Differentiation_Believability_Var   2299 non-null   float64\n",
      " 19  Price_Purchase_Intent_Mean                           2299 non-null   float64\n",
      " 20  Q13._x_Q14.                                          2299 non-null   float64\n",
      " 21  Drinking_Frequency_Purchase_Intent_Mean              2299 non-null   float64\n",
      " 22  Drinking_Frequency_Purchase_Intent_Var               2299 non-null   float64\n",
      " 23  Income_Price_Mean                                    2299 non-null   float64\n",
      " 24  Income_Price_Var                                     2299 non-null   float64\n",
      " 25  gibberish_16A                                        2299 non-null   float64\n",
      " 26  gibberish_16B                                        2299 non-null   float64\n",
      " 27  ai_generated_16A                                     2299 non-null   float64\n",
      " 28  ai_generated_16B                                     2299 non-null   float64\n",
      " 29  is_relevant_16A                                      2299 non-null   float32\n",
      " 30  is_relevant_16B                                      2299 non-null   float32\n",
      " 31  sim_Q16A._Q16B.                                      2299 non-null   float64\n",
      " 32  Q2.bin0                                              2299 non-null   int64  \n",
      " 33  Q2.bin1                                              2299 non-null   int64  \n",
      " 34  Q2.bin2                                              2299 non-null   int64  \n",
      " 35  Q3.bin0                                              2299 non-null   int64  \n",
      " 36  Q3.bin1                                              2299 non-null   int64  \n",
      " 37  Q3.bin2                                              2299 non-null   int64  \n",
      " 38  Q4.bin0                                              2299 non-null   int64  \n",
      " 39  Q4.bin1                                              2299 non-null   int64  \n",
      " 40  Q4.bin2                                              2299 non-null   int64  \n",
      " 41  Q4.bin3                                              2299 non-null   int64  \n",
      " 42  Q9.bin0                                              2299 non-null   int64  \n",
      " 43  Q9.bin1                                              2299 non-null   int64  \n",
      " 44  Q9.bin2                                              2299 non-null   int64  \n",
      " 45  Q10.bin0                                             2299 non-null   int64  \n",
      " 46  Q10.bin1                                             2299 non-null   int64  \n",
      " 47  Q10.bin2                                             2299 non-null   int64  \n",
      " 48  Q11.bin0                                             2299 non-null   int64  \n",
      " 49  Q11.bin1                                             2299 non-null   int64  \n",
      " 50  Q11.bin2                                             2299 non-null   int64  \n",
      " 51  Q12.bin0                                             2299 non-null   int64  \n",
      " 52  Q12.bin1                                             2299 non-null   int64  \n",
      " 53  Q13.bin0                                             2299 non-null   int64  \n",
      " 54  Q13.bin1                                             2299 non-null   int64  \n",
      " 55  Q13.bin2                                             2299 non-null   int64  \n",
      " 56  Q14.bin0                                             2299 non-null   int64  \n",
      " 57  Q14.bin1                                             2299 non-null   int64  \n",
      " 58  Q14.bin2                                             2299 non-null   int64  \n",
      " 59  Q15.bin0                                             2299 non-null   int64  \n",
      " 60  Q15.bin1                                             2299 non-null   int64  \n",
      " 61  Q15.bin2                                             2299 non-null   int64  \n",
      " 62  Q15.bin3                                             2299 non-null   int64  \n",
      " 63  Q17.bin0                                             2299 non-null   int64  \n",
      " 64  Q17.bin1                                             2299 non-null   int64  \n",
      "dtypes: float32(2), float64(15), int64(48)\n",
      "memory usage: 1.1 MB\n"
     ]
    }
   ],
   "source": [
    "dft.info()"
   ]
  },
  {
   "cell_type": "markdown",
   "metadata": {},
   "source": [
    "### Fit CatBoost Model After Splitting Data"
   ]
  },
  {
   "cell_type": "code",
   "execution_count": 160,
   "metadata": {
    "execution": {
     "iopub.execute_input": "2025-03-10T20:55:02.613174Z",
     "iopub.status.busy": "2025-03-10T20:55:02.612846Z",
     "iopub.status.idle": "2025-03-10T20:55:03.223372Z",
     "shell.execute_reply": "2025-03-10T20:55:03.222214Z",
     "shell.execute_reply.started": "2025-03-10T20:55:02.613148Z"
    },
    "trusted": true
   },
   "outputs": [
    {
     "data": {
      "text/plain": [
       "<catboost.core.CatBoostClassifier at 0x3334fe740>"
      ]
     },
     "execution_count": 160,
     "metadata": {},
     "output_type": "execute_result"
    }
   ],
   "source": [
    "# Split into training and testing sets (80% train, 20% test)\n",
    "X_train, X_test, y_train, y_test = train_test_split(\n",
    "    dft.drop(columns=[\"OE_Quality_Flag\"]), dft[\"OE_Quality_Flag\"], test_size=0.2, random_state=42, stratify=dft[\"OE_Quality_Flag\"]\n",
    ")\n",
    "scale_pos_weight = dft['OE_Quality_Flag'].value_counts()[0] / dft['OE_Quality_Flag'].value_counts()[1]\n",
    "# Initialize and train CatBoost model\n",
    "model = CatBoostClassifier(iterations=100, depth=8, learning_rate=0.008, cat_features=cat_features, scale_pos_weight=scale_pos_weight, verbose=0, l2_leaf_reg=7)\n",
    "model.fit(X_train, y_train, eval_set=(X_test, y_test), early_stopping_rounds=20)"
   ]
  },
  {
   "cell_type": "markdown",
   "metadata": {},
   "source": [
    "### Make Predictions and Visualize Confusion Matrix"
   ]
  },
  {
   "cell_type": "code",
   "execution_count": 161,
   "metadata": {
    "execution": {
     "iopub.execute_input": "2025-03-10T20:55:03.224871Z",
     "iopub.status.busy": "2025-03-10T20:55:03.224549Z",
     "iopub.status.idle": "2025-03-10T20:55:03.242037Z",
     "shell.execute_reply": "2025-03-10T20:55:03.241038Z",
     "shell.execute_reply.started": "2025-03-10T20:55:03.224838Z"
    },
    "trusted": true
   },
   "outputs": [
    {
     "name": "stdout",
     "output_type": "stream",
     "text": [
      "Accuracy: 0.83\n",
      "Confusion Matrix:\n",
      "[[378  46]\n",
      " [ 31   5]]\n"
     ]
    }
   ],
   "source": [
    "# Predict on test set\n",
    "y_pred = model.predict(X_test)\n",
    "\n",
    "accuracy = accuracy_score(y_test, y_pred)\n",
    "print(f\"Accuracy: {accuracy:.2f}\")\n",
    "\n",
    "cm = confusion_matrix(y_test, y_pred)\n",
    "print(\"Confusion Matrix:\")\n",
    "print(cm)"
   ]
  },
  {
   "cell_type": "markdown",
   "metadata": {},
   "source": [
    "### Save the CatBoost Model"
   ]
  },
  {
   "cell_type": "code",
   "execution_count": 162,
   "metadata": {
    "execution": {
     "iopub.execute_input": "2025-03-10T20:55:03.243470Z",
     "iopub.status.busy": "2025-03-10T20:55:03.243057Z",
     "iopub.status.idle": "2025-03-10T20:55:03.260359Z",
     "shell.execute_reply": "2025-03-10T20:55:03.258993Z",
     "shell.execute_reply.started": "2025-03-10T20:55:03.243431Z"
    },
    "trusted": true
   },
   "outputs": [],
   "source": [
    "model.save_model('catboost_model.cbm')"
   ]
  },
  {
   "cell_type": "markdown",
   "metadata": {},
   "source": [
    "### Experiments on CatBoost Predicted Probability"
   ]
  },
  {
   "cell_type": "code",
   "execution_count": 163,
   "metadata": {
    "execution": {
     "iopub.execute_input": "2025-03-10T20:55:03.261909Z",
     "iopub.status.busy": "2025-03-10T20:55:03.261540Z",
     "iopub.status.idle": "2025-03-10T20:55:03.286839Z",
     "shell.execute_reply": "2025-03-10T20:55:03.285603Z",
     "shell.execute_reply.started": "2025-03-10T20:55:03.261861Z"
    },
    "trusted": true
   },
   "outputs": [
    {
     "name": "stdout",
     "output_type": "stream",
     "text": [
      "Confusion Matrix:\n",
      "[[346  78]\n",
      " [ 24  12]]\n"
     ]
    }
   ],
   "source": [
    "# Convert y_test to NumPy array for correct indexing\n",
    "y_test_array = y_test.to_numpy()\n",
    "\n",
    "# Get prediction probabilities\n",
    "pred_probs = model.predict_proba(X_test)\n",
    "res = []\n",
    "# Iterate through predictions safely\n",
    "for i in range(len(y_test_array)):\n",
    "    #if y_test_array[i]:  # ✅ Now indexing is safe\n",
    "    res.append(1 if pred_probs[i][1]>0.49 else 0)\n",
    "    #else:\n",
    "        #res.append(res.append(1 if pred_probs[i][0]>0.49 else 0))\n",
    "res = np.array(res)\n",
    "cm = confusion_matrix(y_test, res)\n",
    "print(\"Confusion Matrix:\")\n",
    "print(cm)"
   ]
  },
  {
   "cell_type": "markdown",
   "metadata": {},
   "source": [
    "### Save CatBoost Model as Pickle file"
   ]
  },
  {
   "cell_type": "code",
   "execution_count": 164,
   "metadata": {
    "execution": {
     "iopub.execute_input": "2025-03-10T20:55:03.317206Z",
     "iopub.status.busy": "2025-03-10T20:55:03.316721Z",
     "iopub.status.idle": "2025-03-10T20:55:03.337452Z",
     "shell.execute_reply": "2025-03-10T20:55:03.336146Z",
     "shell.execute_reply.started": "2025-03-10T20:55:03.317164Z"
    },
    "trusted": true
   },
   "outputs": [],
   "source": [
    "with open('catboost_model.pkl', 'wb') as file:\n",
    "    pickle.dump(model, file)"
   ]
  },
  {
   "cell_type": "markdown",
   "metadata": {},
   "source": [
    "### Calculating Metrics from Confusion Matrix"
   ]
  },
  {
   "cell_type": "code",
   "execution_count": 165,
   "metadata": {
    "execution": {
     "iopub.execute_input": "2025-03-10T20:55:03.338891Z",
     "iopub.status.busy": "2025-03-10T20:55:03.338619Z",
     "iopub.status.idle": "2025-03-10T20:55:03.359505Z",
     "shell.execute_reply": "2025-03-10T20:55:03.358370Z",
     "shell.execute_reply.started": "2025-03-10T20:55:03.338868Z"
    },
    "trusted": true
   },
   "outputs": [
    {
     "name": "stdout",
     "output_type": "stream",
     "text": [
      "precision:  0.13333333333333333\n",
      "recall:  0.3333333333333333\n"
     ]
    }
   ],
   "source": [
    "print('precision: ',(cm[1][1]/(cm[0][1] + cm[1][1])))\n",
    "print('recall: ',(cm[1][1]/(cm[1][0] + cm[1][1])))"
   ]
  },
  {
   "cell_type": "markdown",
   "metadata": {},
   "source": [
    "### Get Feature Importance from CatBoost Model"
   ]
  },
  {
   "cell_type": "code",
   "execution_count": 166,
   "metadata": {
    "execution": {
     "iopub.execute_input": "2025-03-10T20:55:03.383084Z",
     "iopub.status.busy": "2025-03-10T20:55:03.382686Z",
     "iopub.status.idle": "2025-03-10T20:55:04.247587Z",
     "shell.execute_reply": "2025-03-10T20:55:04.246369Z",
     "shell.execute_reply.started": "2025-03-10T20:55:03.383051Z"
    },
    "trusted": true
   },
   "outputs": [
    {
     "data": {
      "image/png": "[encoded data removed]",
      "text/plain": [
       "<Figure size 1000x500 with 1 Axes>"
      ]
     },
     "metadata": {},
     "output_type": "display_data"
    }
   ],
   "source": [
    "# Get feature importance\n",
    "feature_importance = model.get_feature_importance()\n",
    "feature_names = model.feature_names_\n",
    "\n",
    "# Convert to DataFrame\n",
    "importance_df = pd.DataFrame({\"Feature\": feature_names, \"Importance\": feature_importance})\n",
    "\n",
    "# Sort and plot\n",
    "importance_df.sort_values(by=\"Importance\", ascending=False).plot(kind=\"bar\", x=\"Feature\", y=\"Importance\", figsize=(10, 5), title=\"Feature Importance\")\n",
    "plt.show()"
   ]
  },
  {
   "cell_type": "markdown",
   "metadata": {},
   "source": [
    "### Use SHAP for visualizing Feature Impact on Model Predictions"
   ]
  },
  {
   "cell_type": "code",
   "execution_count": 167,
   "metadata": {
    "execution": {
     "iopub.execute_input": "2025-03-10T20:55:04.249001Z",
     "iopub.status.busy": "2025-03-10T20:55:04.248589Z",
     "iopub.status.idle": "2025-03-10T20:55:09.201727Z",
     "shell.execute_reply": "2025-03-10T20:55:09.200261Z",
     "shell.execute_reply.started": "2025-03-10T20:55:04.248959Z"
    },
    "trusted": true
   },
   "outputs": [
    {
     "data": {
      "image/png": "[encoded data removed]",
      "text/plain": [
       "<Figure size 800x950 with 2 Axes>"
      ]
     },
     "metadata": {},
     "output_type": "display_data"
    }
   ],
   "source": [
    "# Initialize SHAP explainer for CatBoost\n",
    "explainer = shap.TreeExplainer(model)\n",
    "\n",
    "# Get SHAP values\n",
    "shap_values = explainer.shap_values(X_test)\n",
    "\n",
    "# ✅ Now you can visualize!\n",
    "shap.summary_plot(shap_values, X_test)"
   ]
  },
  {
   "cell_type": "markdown",
   "metadata": {},
   "source": [
    "# XGBOOST"
   ]
  },
  {
   "cell_type": "markdown",
   "metadata": {},
   "source": [
    "### Training and Testing XGBoost Model"
   ]
  },
  {
   "cell_type": "code",
   "execution_count": 168,
   "metadata": {
    "execution": {
     "iopub.execute_input": "2025-03-10T20:55:09.204626Z",
     "iopub.status.busy": "2025-03-10T20:55:09.203320Z",
     "iopub.status.idle": "2025-03-10T20:55:09.465028Z",
     "shell.execute_reply": "2025-03-10T20:55:09.463965Z",
     "shell.execute_reply.started": "2025-03-10T20:55:09.204586Z"
    },
    "trusted": true
   },
   "outputs": [
    {
     "name": "stdout",
     "output_type": "stream",
     "text": [
      "Accuracy: 0.908695652173913\n"
     ]
    }
   ],
   "source": [
    "for i in cols_to_convert:\n",
    "    dft[i] = dft[i].astype('int')\n",
    "X = dft.drop(['OE_Quality_Flag'], axis=1, inplace=False)\n",
    "y = dft['OE_Quality_Flag']\n",
    "\n",
    "# Split dataset\n",
    "X_train, X_test, y_train, y_test = train_test_split(X, y, test_size=0.2, random_state=42, stratify=y)\n",
    "\n",
    "# Train model\n",
    "scale_pos_weight = dft['OE_Quality_Flag'].value_counts()[0] / dft['OE_Quality_Flag'].value_counts()[1]\n",
    "model = xgb.XGBClassifier(scale_pos_weight=scale_pos_weight,eval_metric=\"aucpr\")\n",
    "model.fit(X_train, y_train)\n",
    "\n",
    "# Accuracy score\n",
    "accuracy = model.score(X_test, y_test)\n",
    "print(\"Accuracy:\", accuracy)"
   ]
  },
  {
   "cell_type": "markdown",
   "metadata": {},
   "source": [
    "### Visualizing Confusion Matrix"
   ]
  },
  {
   "cell_type": "code",
   "execution_count": 169,
   "metadata": {
    "execution": {
     "iopub.execute_input": "2025-03-10T20:55:09.466401Z",
     "iopub.status.busy": "2025-03-10T20:55:09.466046Z",
     "iopub.status.idle": "2025-03-10T20:55:09.487519Z",
     "shell.execute_reply": "2025-03-10T20:55:09.486250Z",
     "shell.execute_reply.started": "2025-03-10T20:55:09.466373Z"
    },
    "trusted": true
   },
   "outputs": [
    {
     "name": "stdout",
     "output_type": "stream",
     "text": [
      "Confusion Matrix:\n",
      "[[418   6]\n",
      " [ 36   0]]\n"
     ]
    }
   ],
   "source": [
    "# Predictions\n",
    "y_pred = model.predict(X_test)\n",
    "\n",
    "# Compute confusion matrix\n",
    "cm = confusion_matrix(y_test, y_pred)\n",
    "\n",
    "print(\"Confusion Matrix:\")\n",
    "print(cm)"
   ]
  },
  {
   "cell_type": "code",
   "execution_count": 170,
   "metadata": {
    "execution": {
     "iopub.execute_input": "2025-03-10T20:55:09.489231Z",
     "iopub.status.busy": "2025-03-10T20:55:09.488776Z",
     "iopub.status.idle": "2025-03-10T20:55:09.507978Z",
     "shell.execute_reply": "2025-03-10T20:55:09.506896Z",
     "shell.execute_reply.started": "2025-03-10T20:55:09.489189Z"
    },
    "trusted": true
   },
   "outputs": [
    {
     "name": "stdout",
     "output_type": "stream",
     "text": [
      "<class 'pandas.core.frame.DataFrame'>\n",
      "RangeIndex: 2299 entries, 1 to 2299\n",
      "Data columns (total 65 columns):\n",
      " #   Column                                               Non-Null Count  Dtype  \n",
      "---  ------                                               --------------  -----  \n",
      " 0   Q1.                                                  2299 non-null   float64\n",
      " 1   Q6                                                   2299 non-null   int64  \n",
      " 2    Flavored/Mixed Beer                                 2299 non-null   int64  \n",
      " 3    Non-Alcoholic Beers                                 2299 non-null   int64  \n",
      " 4    Hard Ciders                                         2299 non-null   int64  \n",
      " 5    Hard Kombucha                                       2299 non-null   int64  \n",
      " 6    Wine                                                2299 non-null   int64  \n",
      " 7    Hard Beverage                                       2299 non-null   int64  \n",
      " 8    Distilled Spirits                                   2299 non-null   int64  \n",
      " 9   Q7.                                                  2299 non-null   int64  \n",
      " 10  Domestic Regular Beer                                2299 non-null   int64  \n",
      " 11  Low Calorie Carb Beer                                2299 non-null   int64  \n",
      " 12  Domestic Craft                                       2299 non-null   int64  \n",
      " 13  Imported Mexican Beer                                2299 non-null   int64  \n",
      " 14  Other Imported Beer                                  2299 non-null   int64  \n",
      " 15  Non-Alcoholic Beer                                   2299 non-null   int64  \n",
      " 16  OE_Quality_Flag                                      2299 non-null   float64\n",
      " 17  Relevance_Appeal_Differentiation_Believability_Mean  2299 non-null   float64\n",
      " 18  Relevance_Appeal_Differentiation_Believability_Var   2299 non-null   float64\n",
      " 19  Price_Purchase_Intent_Mean                           2299 non-null   float64\n",
      " 20  Q13._x_Q14.                                          2299 non-null   float64\n",
      " 21  Drinking_Frequency_Purchase_Intent_Mean              2299 non-null   float64\n",
      " 22  Drinking_Frequency_Purchase_Intent_Var               2299 non-null   float64\n",
      " 23  Income_Price_Mean                                    2299 non-null   float64\n",
      " 24  Income_Price_Var                                     2299 non-null   float64\n",
      " 25  gibberish_16A                                        2299 non-null   float64\n",
      " 26  gibberish_16B                                        2299 non-null   float64\n",
      " 27  ai_generated_16A                                     2299 non-null   float64\n",
      " 28  ai_generated_16B                                     2299 non-null   float64\n",
      " 29  is_relevant_16A                                      2299 non-null   float32\n",
      " 30  is_relevant_16B                                      2299 non-null   float32\n",
      " 31  sim_Q16A._Q16B.                                      2299 non-null   float64\n",
      " 32  Q2.bin0                                              2299 non-null   int64  \n",
      " 33  Q2.bin1                                              2299 non-null   int64  \n",
      " 34  Q2.bin2                                              2299 non-null   int64  \n",
      " 35  Q3.bin0                                              2299 non-null   int64  \n",
      " 36  Q3.bin1                                              2299 non-null   int64  \n",
      " 37  Q3.bin2                                              2299 non-null   int64  \n",
      " 38  Q4.bin0                                              2299 non-null   int64  \n",
      " 39  Q4.bin1                                              2299 non-null   int64  \n",
      " 40  Q4.bin2                                              2299 non-null   int64  \n",
      " 41  Q4.bin3                                              2299 non-null   int64  \n",
      " 42  Q9.bin0                                              2299 non-null   int64  \n",
      " 43  Q9.bin1                                              2299 non-null   int64  \n",
      " 44  Q9.bin2                                              2299 non-null   int64  \n",
      " 45  Q10.bin0                                             2299 non-null   int64  \n",
      " 46  Q10.bin1                                             2299 non-null   int64  \n",
      " 47  Q10.bin2                                             2299 non-null   int64  \n",
      " 48  Q11.bin0                                             2299 non-null   int64  \n",
      " 49  Q11.bin1                                             2299 non-null   int64  \n",
      " 50  Q11.bin2                                             2299 non-null   int64  \n",
      " 51  Q12.bin0                                             2299 non-null   int64  \n",
      " 52  Q12.bin1                                             2299 non-null   int64  \n",
      " 53  Q13.bin0                                             2299 non-null   int64  \n",
      " 54  Q13.bin1                                             2299 non-null   int64  \n",
      " 55  Q13.bin2                                             2299 non-null   int64  \n",
      " 56  Q14.bin0                                             2299 non-null   int64  \n",
      " 57  Q14.bin1                                             2299 non-null   int64  \n",
      " 58  Q14.bin2                                             2299 non-null   int64  \n",
      " 59  Q15.bin0                                             2299 non-null   int64  \n",
      " 60  Q15.bin1                                             2299 non-null   int64  \n",
      " 61  Q15.bin2                                             2299 non-null   int64  \n",
      " 62  Q15.bin3                                             2299 non-null   int64  \n",
      " 63  Q17.bin0                                             2299 non-null   int64  \n",
      " 64  Q17.bin1                                             2299 non-null   int64  \n",
      "dtypes: float32(2), float64(15), int64(48)\n",
      "memory usage: 1.1 MB\n"
     ]
    }
   ],
   "source": [
    "dft.info()"
   ]
  },
  {
   "cell_type": "markdown",
   "metadata": {},
   "source": [
    "# One class svm"
   ]
  },
  {
   "cell_type": "markdown",
   "metadata": {},
   "source": [
    "### Training and Testing One Class SVMs on both Target Classes Separately"
   ]
  },
  {
   "cell_type": "code",
   "execution_count": 171,
   "metadata": {
    "execution": {
     "iopub.execute_input": "2025-03-10T20:55:09.509446Z",
     "iopub.status.busy": "2025-03-10T20:55:09.509138Z",
     "iopub.status.idle": "2025-03-10T20:55:09.621657Z",
     "shell.execute_reply": "2025-03-10T20:55:09.620445Z",
     "shell.execute_reply.started": "2025-03-10T20:55:09.509420Z"
    },
    "trusted": true
   },
   "outputs": [
    {
     "name": "stdout",
     "output_type": "stream",
     "text": [
      "<class 'pandas.core.frame.DataFrame'>\n",
      "Index: 1695 entries, 156 to 131\n",
      "Data columns (total 64 columns):\n",
      " #   Column                                               Non-Null Count  Dtype  \n",
      "---  ------                                               --------------  -----  \n",
      " 0   Q1.                                                  1695 non-null   float64\n",
      " 1   Q6                                                   1695 non-null   int64  \n",
      " 2    Flavored/Mixed Beer                                 1695 non-null   int64  \n",
      " 3    Non-Alcoholic Beers                                 1695 non-null   int64  \n",
      " 4    Hard Ciders                                         1695 non-null   int64  \n",
      " 5    Hard Kombucha                                       1695 non-null   int64  \n",
      " 6    Wine                                                1695 non-null   int64  \n",
      " 7    Hard Beverage                                       1695 non-null   int64  \n",
      " 8    Distilled Spirits                                   1695 non-null   int64  \n",
      " 9   Q7.                                                  1695 non-null   int64  \n",
      " 10  Domestic Regular Beer                                1695 non-null   int64  \n",
      " 11  Low Calorie Carb Beer                                1695 non-null   int64  \n",
      " 12  Domestic Craft                                       1695 non-null   int64  \n",
      " 13  Imported Mexican Beer                                1695 non-null   int64  \n",
      " 14  Other Imported Beer                                  1695 non-null   int64  \n",
      " 15  Non-Alcoholic Beer                                   1695 non-null   int64  \n",
      " 16  Relevance_Appeal_Differentiation_Believability_Mean  1695 non-null   float64\n",
      " 17  Relevance_Appeal_Differentiation_Believability_Var   1695 non-null   float64\n",
      " 18  Price_Purchase_Intent_Mean                           1695 non-null   float64\n",
      " 19  Q13._x_Q14.                                          1695 non-null   float64\n",
      " 20  Drinking_Frequency_Purchase_Intent_Mean              1695 non-null   float64\n",
      " 21  Drinking_Frequency_Purchase_Intent_Var               1695 non-null   float64\n",
      " 22  Income_Price_Mean                                    1695 non-null   float64\n",
      " 23  Income_Price_Var                                     1695 non-null   float64\n",
      " 24  gibberish_16A                                        1695 non-null   float64\n",
      " 25  gibberish_16B                                        1695 non-null   float64\n",
      " 26  ai_generated_16A                                     1695 non-null   float64\n",
      " 27  ai_generated_16B                                     1695 non-null   float64\n",
      " 28  is_relevant_16A                                      1695 non-null   float32\n",
      " 29  is_relevant_16B                                      1695 non-null   float32\n",
      " 30  sim_Q16A._Q16B.                                      1695 non-null   float64\n",
      " 31  Q2.bin0                                              1695 non-null   int64  \n",
      " 32  Q2.bin1                                              1695 non-null   int64  \n",
      " 33  Q2.bin2                                              1695 non-null   int64  \n",
      " 34  Q3.bin0                                              1695 non-null   int64  \n",
      " 35  Q3.bin1                                              1695 non-null   int64  \n",
      " 36  Q3.bin2                                              1695 non-null   int64  \n",
      " 37  Q4.bin0                                              1695 non-null   int64  \n",
      " 38  Q4.bin1                                              1695 non-null   int64  \n",
      " 39  Q4.bin2                                              1695 non-null   int64  \n",
      " 40  Q4.bin3                                              1695 non-null   int64  \n",
      " 41  Q9.bin0                                              1695 non-null   int64  \n",
      " 42  Q9.bin1                                              1695 non-null   int64  \n",
      " 43  Q9.bin2                                              1695 non-null   int64  \n",
      " 44  Q10.bin0                                             1695 non-null   int64  \n",
      " 45  Q10.bin1                                             1695 non-null   int64  \n",
      " 46  Q10.bin2                                             1695 non-null   int64  \n",
      " 47  Q11.bin0                                             1695 non-null   int64  \n",
      " 48  Q11.bin1                                             1695 non-null   int64  \n",
      " 49  Q11.bin2                                             1695 non-null   int64  \n",
      " 50  Q12.bin0                                             1695 non-null   int64  \n",
      " 51  Q12.bin1                                             1695 non-null   int64  \n",
      " 52  Q13.bin0                                             1695 non-null   int64  \n",
      " 53  Q13.bin1                                             1695 non-null   int64  \n",
      " 54  Q13.bin2                                             1695 non-null   int64  \n",
      " 55  Q14.bin0                                             1695 non-null   int64  \n",
      " 56  Q14.bin1                                             1695 non-null   int64  \n",
      " 57  Q14.bin2                                             1695 non-null   int64  \n",
      " 58  Q15.bin0                                             1695 non-null   int64  \n",
      " 59  Q15.bin1                                             1695 non-null   int64  \n",
      " 60  Q15.bin2                                             1695 non-null   int64  \n",
      " 61  Q15.bin3                                             1695 non-null   int64  \n",
      " 62  Q17.bin0                                             1695 non-null   int64  \n",
      " 63  Q17.bin1                                             1695 non-null   int64  \n",
      "dtypes: float32(2), float64(14), int64(48)\n",
      "memory usage: 847.5 KB\n",
      "None\n",
      "<class 'pandas.core.frame.DataFrame'>\n",
      "Index: 144 entries, 244 to 1793\n",
      "Data columns (total 64 columns):\n",
      " #   Column                                               Non-Null Count  Dtype  \n",
      "---  ------                                               --------------  -----  \n",
      " 0   Q1.                                                  144 non-null    float64\n",
      " 1   Q6                                                   144 non-null    int64  \n",
      " 2    Flavored/Mixed Beer                                 144 non-null    int64  \n",
      " 3    Non-Alcoholic Beers                                 144 non-null    int64  \n",
      " 4    Hard Ciders                                         144 non-null    int64  \n",
      " 5    Hard Kombucha                                       144 non-null    int64  \n",
      " 6    Wine                                                144 non-null    int64  \n",
      " 7    Hard Beverage                                       144 non-null    int64  \n",
      " 8    Distilled Spirits                                   144 non-null    int64  \n",
      " 9   Q7.                                                  144 non-null    int64  \n",
      " 10  Domestic Regular Beer                                144 non-null    int64  \n",
      " 11  Low Calorie Carb Beer                                144 non-null    int64  \n",
      " 12  Domestic Craft                                       144 non-null    int64  \n",
      " 13  Imported Mexican Beer                                144 non-null    int64  \n",
      " 14  Other Imported Beer                                  144 non-null    int64  \n",
      " 15  Non-Alcoholic Beer                                   144 non-null    int64  \n",
      " 16  Relevance_Appeal_Differentiation_Believability_Mean  144 non-null    float64\n",
      " 17  Relevance_Appeal_Differentiation_Believability_Var   144 non-null    float64\n",
      " 18  Price_Purchase_Intent_Mean                           144 non-null    float64\n",
      " 19  Q13._x_Q14.                                          144 non-null    float64\n",
      " 20  Drinking_Frequency_Purchase_Intent_Mean              144 non-null    float64\n",
      " 21  Drinking_Frequency_Purchase_Intent_Var               144 non-null    float64\n",
      " 22  Income_Price_Mean                                    144 non-null    float64\n",
      " 23  Income_Price_Var                                     144 non-null    float64\n",
      " 24  gibberish_16A                                        144 non-null    float64\n",
      " 25  gibberish_16B                                        144 non-null    float64\n",
      " 26  ai_generated_16A                                     144 non-null    float64\n",
      " 27  ai_generated_16B                                     144 non-null    float64\n",
      " 28  is_relevant_16A                                      144 non-null    float32\n",
      " 29  is_relevant_16B                                      144 non-null    float32\n",
      " 30  sim_Q16A._Q16B.                                      144 non-null    float64\n",
      " 31  Q2.bin0                                              144 non-null    int64  \n",
      " 32  Q2.bin1                                              144 non-null    int64  \n",
      " 33  Q2.bin2                                              144 non-null    int64  \n",
      " 34  Q3.bin0                                              144 non-null    int64  \n",
      " 35  Q3.bin1                                              144 non-null    int64  \n",
      " 36  Q3.bin2                                              144 non-null    int64  \n",
      " 37  Q4.bin0                                              144 non-null    int64  \n",
      " 38  Q4.bin1                                              144 non-null    int64  \n",
      " 39  Q4.bin2                                              144 non-null    int64  \n",
      " 40  Q4.bin3                                              144 non-null    int64  \n",
      " 41  Q9.bin0                                              144 non-null    int64  \n",
      " 42  Q9.bin1                                              144 non-null    int64  \n",
      " 43  Q9.bin2                                              144 non-null    int64  \n",
      " 44  Q10.bin0                                             144 non-null    int64  \n",
      " 45  Q10.bin1                                             144 non-null    int64  \n",
      " 46  Q10.bin2                                             144 non-null    int64  \n",
      " 47  Q11.bin0                                             144 non-null    int64  \n",
      " 48  Q11.bin1                                             144 non-null    int64  \n",
      " 49  Q11.bin2                                             144 non-null    int64  \n",
      " 50  Q12.bin0                                             144 non-null    int64  \n",
      " 51  Q12.bin1                                             144 non-null    int64  \n",
      " 52  Q13.bin0                                             144 non-null    int64  \n",
      " 53  Q13.bin1                                             144 non-null    int64  \n",
      " 54  Q13.bin2                                             144 non-null    int64  \n",
      " 55  Q14.bin0                                             144 non-null    int64  \n",
      " 56  Q14.bin1                                             144 non-null    int64  \n",
      " 57  Q14.bin2                                             144 non-null    int64  \n",
      " 58  Q15.bin0                                             144 non-null    int64  \n",
      " 59  Q15.bin1                                             144 non-null    int64  \n",
      " 60  Q15.bin2                                             144 non-null    int64  \n",
      " 61  Q15.bin3                                             144 non-null    int64  \n",
      " 62  Q17.bin0                                             144 non-null    int64  \n",
      " 63  Q17.bin1                                             144 non-null    int64  \n",
      "dtypes: float32(2), float64(14), int64(48)\n",
      "memory usage: 72.0 KB\n",
      "None\n",
      "Confusion Matrix:\n",
      "[[376  48]\n",
      " [ 32   4]]\n",
      "Confusion Matrix:\n",
      "[[124 300]\n",
      " [ 12  24]]\n"
     ]
    }
   ],
   "source": [
    "y = dft['OE_Quality_Flag']\n",
    "scaler = StandardScaler()\n",
    "# Split into train and test\n",
    "train_df, test_df = train_test_split(dft, test_size=0.2, random_state=42, stratify=y)\n",
    "\n",
    "X_train_0 = train_df[train_df['OE_Quality_Flag'] == 0].drop(columns=['OE_Quality_Flag'])\n",
    "print(X_train_0.info())\n",
    "X_train_1 = train_df[train_df['OE_Quality_Flag'] == 1].drop(columns=['OE_Quality_Flag'])\n",
    "print(X_train_1.info())\n",
    "\n",
    "X_test = test_df.drop(columns=['OE_Quality_Flag'])\n",
    "y_test = test_df['OE_Quality_Flag']\n",
    "\n",
    "# Train One-Class SVMs separately\n",
    "svm_0 = OneClassSVM(kernel='rbf', nu=0.1, gamma='scale').fit(X_train_0)\n",
    "svm_1 = OneClassSVM(kernel='rbf', nu=0.1, gamma='scale').fit(X_train_1)\n",
    "\n",
    "# Get decision function scores for test data\n",
    "score_0 = svm_0.decision_function(X_test)\n",
    "score_1 = svm_1.decision_function(X_test)\n",
    "\n",
    "# Predict class based on which model gives a higher confidence score\n",
    "y_pred0 = np.where(score_0 > 0.5, 0, 1)\n",
    "# Compute confusion matrix\n",
    "cm = confusion_matrix(y_test, y_pred0)\n",
    "\n",
    "print(\"Confusion Matrix:\")\n",
    "print(cm)\n",
    "\n",
    "y_pred1 = np.where(score_1 > 0.5, 1, 0)\n",
    "# Compute confusion matrix\n",
    "cm = confusion_matrix(y_test, y_pred1)\n",
    "\n",
    "print(\"Confusion Matrix:\")\n",
    "print(cm)"
   ]
  },
  {
   "cell_type": "markdown",
   "metadata": {},
   "source": [
    "### Experiment with StandardScaler"
   ]
  },
  {
   "cell_type": "code",
   "execution_count": 172,
   "metadata": {
    "execution": {
     "iopub.execute_input": "2025-03-10T20:55:09.623122Z",
     "iopub.status.busy": "2025-03-10T20:55:09.622749Z",
     "iopub.status.idle": "2025-03-10T20:55:09.737453Z",
     "shell.execute_reply": "2025-03-10T20:55:09.736135Z",
     "shell.execute_reply.started": "2025-03-10T20:55:09.623089Z"
    },
    "trusted": true
   },
   "outputs": [
    {
     "name": "stdout",
     "output_type": "stream",
     "text": [
      "Confusion Matrix (SVM trained on class 0):\n",
      "[[360  64]\n",
      " [ 29   7]]\n",
      "\n",
      "Confusion Matrix (SVM trained on class 1):\n",
      "[[424   0]\n",
      " [ 36   0]]\n"
     ]
    }
   ],
   "source": [
    "# Load dataset (assuming `dft` is your dataset)\n",
    "y = dft['OE_Quality_Flag']\n",
    "\n",
    "# Split into training and testing sets (80% train, 20% test)\n",
    "train_df, test_df = train_test_split(dft, test_size=0.2, random_state=42, stratify=y)\n",
    "\n",
    "# Extract target variable before scaling\n",
    "y_train = train_df['OE_Quality_Flag']\n",
    "y_test = test_df['OE_Quality_Flag']\n",
    "\n",
    "# Drop target before applying scaler\n",
    "X_train = train_df.drop(columns=['OE_Quality_Flag'])\n",
    "X_test = test_df.drop(columns=['OE_Quality_Flag'])\n",
    "\n",
    "# ✅ Apply StandardScaler correctly\n",
    "scaler = StandardScaler()\n",
    "\n",
    "X_train_scaled = scaler.fit_transform(X_train)  # Fit on training set, transform training set\n",
    "X_test_scaled = scaler.transform(X_test)  # Transform test set (DO NOT fit again!)\n",
    "\n",
    "# Convert back to DataFrame (to preserve column names)\n",
    "X_train_scaled = pd.DataFrame(X_train_scaled, columns=X_train.columns, index=X_train.index)\n",
    "X_test_scaled = pd.DataFrame(X_test_scaled, columns=X_test.columns, index=X_test.index)\n",
    "\n",
    "# Add target variable back\n",
    "train_df = X_train_scaled.copy()\n",
    "train_df['OE_Quality_Flag'] = y_train\n",
    "\n",
    "test_df = X_test_scaled.copy()\n",
    "test_df['OE_Quality_Flag'] = y_test\n",
    "\n",
    "# ✅ Train One-Class SVMs separately for each class\n",
    "X_train_0 = train_df[train_df['OE_Quality_Flag'] == 0].drop(columns=['OE_Quality_Flag'])\n",
    "X_train_1 = train_df[train_df['OE_Quality_Flag'] == 1].drop(columns=['OE_Quality_Flag'])\n",
    "\n",
    "svm_0 = OneClassSVM(kernel='rbf', nu=0.1, gamma='scale').fit(X_train_0)\n",
    "svm_1 = OneClassSVM(kernel='rbf', nu=0.1, gamma='scale').fit(X_train_1)\n",
    "\n",
    "# ✅ Get decision function scores for test data\n",
    "X_test = test_df.drop(columns=['OE_Quality_Flag'])\n",
    "score_0 = svm_0.decision_function(X_test)\n",
    "score_1 = svm_1.decision_function(X_test)\n",
    "\n",
    "# ✅ Predict class based on which model gives a higher confidence score\n",
    "y_pred0 = np.where(score_0 > 0.5, 0, 1)\n",
    "y_pred1 = np.where(score_1 > 0.5, 1, 0)\n",
    "\n",
    "# ✅ Compute confusion matrices\n",
    "cm_0 = confusion_matrix(y_test, y_pred0)\n",
    "cm_1 = confusion_matrix(y_test, y_pred1)\n",
    "\n",
    "print(\"Confusion Matrix (SVM trained on class 0):\")\n",
    "print(cm_0)\n",
    "\n",
    "print(\"\\nConfusion Matrix (SVM trained on class 1):\")\n",
    "print(cm_1)\n"
   ]
  },
  {
   "cell_type": "code",
   "execution_count": 173,
   "metadata": {
    "execution": {
     "iopub.execute_input": "2025-03-10T21:09:18.926126Z",
     "iopub.status.busy": "2025-03-10T21:09:18.925643Z",
     "iopub.status.idle": "2025-03-10T21:09:18.945970Z",
     "shell.execute_reply": "2025-03-10T21:09:18.944567Z",
     "shell.execute_reply.started": "2025-03-10T21:09:18.926087Z"
    },
    "trusted": true
   },
   "outputs": [
    {
     "name": "stdout",
     "output_type": "stream",
     "text": [
      "<class 'pandas.core.frame.DataFrame'>\n",
      "RangeIndex: 2299 entries, 1 to 2299\n",
      "Data columns (total 65 columns):\n",
      " #   Column                                               Non-Null Count  Dtype  \n",
      "---  ------                                               --------------  -----  \n",
      " 0   Q1.                                                  2299 non-null   float64\n",
      " 1   Q6                                                   2299 non-null   int64  \n",
      " 2    Flavored/Mixed Beer                                 2299 non-null   int64  \n",
      " 3    Non-Alcoholic Beers                                 2299 non-null   int64  \n",
      " 4    Hard Ciders                                         2299 non-null   int64  \n",
      " 5    Hard Kombucha                                       2299 non-null   int64  \n",
      " 6    Wine                                                2299 non-null   int64  \n",
      " 7    Hard Beverage                                       2299 non-null   int64  \n",
      " 8    Distilled Spirits                                   2299 non-null   int64  \n",
      " 9   Q7.                                                  2299 non-null   int64  \n",
      " 10  Domestic Regular Beer                                2299 non-null   int64  \n",
      " 11  Low Calorie Carb Beer                                2299 non-null   int64  \n",
      " 12  Domestic Craft                                       2299 non-null   int64  \n",
      " 13  Imported Mexican Beer                                2299 non-null   int64  \n",
      " 14  Other Imported Beer                                  2299 non-null   int64  \n",
      " 15  Non-Alcoholic Beer                                   2299 non-null   int64  \n",
      " 16  OE_Quality_Flag                                      2299 non-null   float64\n",
      " 17  Relevance_Appeal_Differentiation_Believability_Mean  2299 non-null   float64\n",
      " 18  Relevance_Appeal_Differentiation_Believability_Var   2299 non-null   float64\n",
      " 19  Price_Purchase_Intent_Mean                           2299 non-null   float64\n",
      " 20  Q13._x_Q14.                                          2299 non-null   float64\n",
      " 21  Drinking_Frequency_Purchase_Intent_Mean              2299 non-null   float64\n",
      " 22  Drinking_Frequency_Purchase_Intent_Var               2299 non-null   float64\n",
      " 23  Income_Price_Mean                                    2299 non-null   float64\n",
      " 24  Income_Price_Var                                     2299 non-null   float64\n",
      " 25  gibberish_16A                                        2299 non-null   float64\n",
      " 26  gibberish_16B                                        2299 non-null   float64\n",
      " 27  ai_generated_16A                                     2299 non-null   float64\n",
      " 28  ai_generated_16B                                     2299 non-null   float64\n",
      " 29  is_relevant_16A                                      2299 non-null   float32\n",
      " 30  is_relevant_16B                                      2299 non-null   float32\n",
      " 31  sim_Q16A._Q16B.                                      2299 non-null   float64\n",
      " 32  Q2.bin0                                              2299 non-null   int64  \n",
      " 33  Q2.bin1                                              2299 non-null   int64  \n",
      " 34  Q2.bin2                                              2299 non-null   int64  \n",
      " 35  Q3.bin0                                              2299 non-null   int64  \n",
      " 36  Q3.bin1                                              2299 non-null   int64  \n",
      " 37  Q3.bin2                                              2299 non-null   int64  \n",
      " 38  Q4.bin0                                              2299 non-null   int64  \n",
      " 39  Q4.bin1                                              2299 non-null   int64  \n",
      " 40  Q4.bin2                                              2299 non-null   int64  \n",
      " 41  Q4.bin3                                              2299 non-null   int64  \n",
      " 42  Q9.bin0                                              2299 non-null   int64  \n",
      " 43  Q9.bin1                                              2299 non-null   int64  \n",
      " 44  Q9.bin2                                              2299 non-null   int64  \n",
      " 45  Q10.bin0                                             2299 non-null   int64  \n",
      " 46  Q10.bin1                                             2299 non-null   int64  \n",
      " 47  Q10.bin2                                             2299 non-null   int64  \n",
      " 48  Q11.bin0                                             2299 non-null   int64  \n",
      " 49  Q11.bin1                                             2299 non-null   int64  \n",
      " 50  Q11.bin2                                             2299 non-null   int64  \n",
      " 51  Q12.bin0                                             2299 non-null   int64  \n",
      " 52  Q12.bin1                                             2299 non-null   int64  \n",
      " 53  Q13.bin0                                             2299 non-null   int64  \n",
      " 54  Q13.bin1                                             2299 non-null   int64  \n",
      " 55  Q13.bin2                                             2299 non-null   int64  \n",
      " 56  Q14.bin0                                             2299 non-null   int64  \n",
      " 57  Q14.bin1                                             2299 non-null   int64  \n",
      " 58  Q14.bin2                                             2299 non-null   int64  \n",
      " 59  Q15.bin0                                             2299 non-null   int64  \n",
      " 60  Q15.bin1                                             2299 non-null   int64  \n",
      " 61  Q15.bin2                                             2299 non-null   int64  \n",
      " 62  Q15.bin3                                             2299 non-null   int64  \n",
      " 63  Q17.bin0                                             2299 non-null   int64  \n",
      " 64  Q17.bin1                                             2299 non-null   int64  \n",
      "dtypes: float32(2), float64(15), int64(48)\n",
      "memory usage: 1.1 MB\n"
     ]
    }
   ],
   "source": [
    "dft.info()"
   ]
  },
  {
   "cell_type": "markdown",
   "metadata": {},
   "source": [
    "## Prototypical Network (Neural Network based Few Shot Learning Method)"
   ]
  },
  {
   "cell_type": "markdown",
   "metadata": {},
   "source": [
    "### Preparing data for the Model"
   ]
  },
  {
   "cell_type": "code",
   "execution_count": 174,
   "metadata": {
    "execution": {
     "iopub.execute_input": "2025-03-10T21:29:48.966384Z",
     "iopub.status.busy": "2025-03-10T21:29:48.965981Z",
     "iopub.status.idle": "2025-03-10T21:29:49.005674Z",
     "shell.execute_reply": "2025-03-10T21:29:49.004471Z",
     "shell.execute_reply.started": "2025-03-10T21:29:48.966357Z"
    },
    "trusted": true
   },
   "outputs": [],
   "source": [
    "y = dft['OE_Quality_Flag']\n",
    "\n",
    "# Split into training and testing sets (80% train, 20% test)\n",
    "train_df, test_df = train_test_split(dft, test_size=0.2, random_state=42, stratify=y)\n",
    "\n",
    "# Extract target variable before scaling\n",
    "y_train = train_df['OE_Quality_Flag']\n",
    "y_test = test_df['OE_Quality_Flag']\n",
    "\n",
    "# Drop target before applying scaler\n",
    "X_train = train_df.drop(columns=['OE_Quality_Flag'])\n",
    "X_test = test_df.drop(columns=['OE_Quality_Flag'])\n",
    "\n",
    "# ✅ Apply StandardScaler correctly\n",
    "scaler = StandardScaler()\n",
    "\n",
    "X_train_scaled = scaler.fit_transform(X_train)  # Fit on training set, transform training set\n",
    "X_test_scaled = scaler.transform(X_test)  # Transform test set (DO NOT fit again!)\n",
    "\n",
    "# Convert back to DataFrame (to preserve column names)\n",
    "X_train_scaled = pd.DataFrame(X_train_scaled, columns=X_train.columns, index=X_train.index)\n",
    "X_test_scaled = pd.DataFrame(X_test_scaled, columns=X_test.columns, index=X_test.index)\n",
    "\n",
    "# Add target variable back\n",
    "train_df = X_train_scaled.copy()\n",
    "train_df['OE_Quality_Flag'] = y_train\n",
    "\n",
    "test_df = X_test_scaled.copy()\n",
    "test_df['OE_Quality_Flag'] = y_test"
   ]
  },
  {
   "cell_type": "markdown",
   "metadata": {},
   "source": [
    "### Defining Dataset and Dataloader"
   ]
  },
  {
   "cell_type": "code",
   "execution_count": 175,
   "metadata": {
    "execution": {
     "iopub.execute_input": "2025-03-10T21:32:26.923766Z",
     "iopub.status.busy": "2025-03-10T21:32:26.923401Z",
     "iopub.status.idle": "2025-03-10T21:32:26.977398Z",
     "shell.execute_reply": "2025-03-10T21:32:26.976288Z",
     "shell.execute_reply.started": "2025-03-10T21:32:26.923740Z"
    },
    "trusted": true
   },
   "outputs": [
    {
     "name": "stdout",
     "output_type": "stream",
     "text": [
      "Support Set X: torch.Size([1, 10, 64])\n",
      "Support Set y: torch.Size([1, 10, 1])\n",
      "Query Set X: torch.Size([1, 10, 64])\n",
      "Query Set y: torch.Size([1, 10, 1])\n"
     ]
    }
   ],
   "source": [
    "cols = list(dft.columns)\n",
    "cols.remove('OE_Quality_Flag')\n",
    "scaler = StandardScaler()\n",
    "dft[cols] = scaler.fit_transform(dft[cols])\n",
    "\n",
    "class EpisodicTabularDataset(Dataset):\n",
    "    def __init__(self, dataframe, num_episodes=1000, support_size=5, query_size=5):\n",
    "        self.num_episodes = num_episodes\n",
    "        self.support_size = support_size\n",
    "        self.query_size = query_size\n",
    "        \n",
    "        # Split data by class\n",
    "        self.class_0 = dataframe[dataframe['OE_Quality_Flag'] == 0]\n",
    "        self.class_1 = dataframe[dataframe['OE_Quality_Flag'] == 1]\n",
    "\n",
    "        # Convert to tensors\n",
    "        self.class_0_X = torch.tensor(self.class_0.drop(columns=['OE_Quality_Flag']).values, dtype=torch.float32)\n",
    "        self.class_1_X = torch.tensor(self.class_1.drop(columns=['OE_Quality_Flag']).values, dtype=torch.float32)\n",
    "        self.class_0_y = torch.zeros(len(self.class_0), 1)  # Class 0 labels\n",
    "        self.class_1_y = torch.ones(len(self.class_1), 1)   # Class 1 labels\n",
    "\n",
    "    def __len__(self):\n",
    "        return self.num_episodes\n",
    "\n",
    "    def __getitem__(self, idx):\n",
    "        \"\"\"\n",
    "        Returns a single episode: (support_X, support_y, query_X, query_y)\n",
    "        \"\"\"\n",
    "        support_X, support_y, query_X, query_y = [], [], [], []\n",
    "\n",
    "        for class_X, class_y in [(self.class_0_X, self.class_0_y), (self.class_1_X, self.class_1_y)]:\n",
    "            indices = random.sample(range(len(class_X)), self.support_size + self.query_size)\n",
    "            support_indices = indices[:self.support_size]\n",
    "            query_indices = indices[self.support_size:]\n",
    "\n",
    "            support_X.append(class_X[support_indices])\n",
    "            support_y.append(class_y[support_indices])\n",
    "            query_X.append(class_X[query_indices])\n",
    "            query_y.append(class_y[query_indices])\n",
    "\n",
    "        # Stack tensors for batch processing\n",
    "        support_X = torch.cat(support_X, dim=0)\n",
    "        support_y = torch.cat(support_y, dim=0)\n",
    "        query_X = torch.cat(query_X, dim=0)\n",
    "        query_y = torch.cat(query_y, dim=0)\n",
    "\n",
    "        return support_X, support_y, query_X, query_y\n",
    "\n",
    "\n",
    "\n",
    "episodic_dataset = EpisodicTabularDataset(dft, num_episodes=100, support_size=5, query_size=5)\n",
    "dataloader = DataLoader(episodic_dataset, batch_size=1, shuffle=True)  # 1 episode per batch\n",
    "\n",
    "# 3️⃣ Example of Loading an Episode\n",
    "for support_X, support_y, query_X, query_y in dataloader:\n",
    "    print(\"Support Set X:\", support_X.shape)  # [10, num_features]\n",
    "    print(\"Support Set y:\", support_y.shape)  # [10, 1]\n",
    "    print(\"Query Set X:\", query_X.shape)      # [10, num_features]\n",
    "    print(\"Query Set y:\", query_y.shape)      # [10, 1]\n",
    "    break  # Only show first batch"
   ]
  },
  {
   "cell_type": "markdown",
   "metadata": {},
   "source": [
    "### Defining the Model (Protoypical Network)"
   ]
  },
  {
   "cell_type": "code",
   "execution_count": null,
   "metadata": {
    "execution": {
     "iopub.execute_input": "2025-03-10T21:32:54.579687Z",
     "iopub.status.busy": "2025-03-10T21:32:54.579316Z",
     "iopub.status.idle": "2025-03-10T21:32:54.586030Z",
     "shell.execute_reply": "2025-03-10T21:32:54.584677Z",
     "shell.execute_reply.started": "2025-03-10T21:32:54.579656Z"
    },
    "trusted": true
   },
   "outputs": [],
   "source": [
    "import torch\n",
    "import torch.nn as nn\n",
    "\n",
    "class ProtoNet(nn.Module):\n",
    "    def __init__(self, input_dim):\n",
    "        super(ProtoNet, self).__init__()\n",
    "        self.fc = nn.Sequential(\n",
    "            nn.Linear(input_dim, 128),\n",
    "            nn.Dropout(0.2),\n",
    "            nn.ReLU(),\n",
    "            nn.BatchNorm1d(128),\n",
    "            nn.Linear(128, 64),\n",
    "            nn.Dropout(0.2),\n",
    "            nn.ReLU(),\n",
    "            nn.Linear(64, 32)  # Smaller embedding\n",
    "        )\n",
    "        # Register prototypes as a buffer\n",
    "        self.register_buffer(\"prototypes\", torch.zeros(2,32))  \n",
    "\n",
    "    def forward(self, x):\n",
    "        return self.fc(x)\n",
    "\n",
    "    def compute_and_store_prototypes(self, support_X, support_y):\n",
    "        \"\"\"\n",
    "        Computes class prototypes and stores them in the model as a buffer.\n",
    "        \"\"\"\n",
    "        with torch.no_grad():\n",
    "            embeddings = self(support_X)  # Get embeddings\n",
    "\n",
    "            unique_classes = torch.unique(support_y)\n",
    "            prototypes = torch.stack([\n",
    "                embeddings[support_y.squeeze(-1) == c].mean(dim=0) for c in unique_classes\n",
    "            ])\n",
    "\n",
    "        self.prototypes = prototypes  # Store prototypes inside the buffer\n",
    "\n",
    "    def get_prototypes(self):\n",
    "        \"\"\"\n",
    "        Returns stored prototypes.\n",
    "        \"\"\"\n",
    "        if self.prototypes.numel() == 0:\n",
    "            raise ValueError(\"Prototypes have not been computed. Call compute_and_store_prototypes() first.\")\n",
    "        return self.prototypes"
   ]
  },
  {
   "cell_type": "markdown",
   "metadata": {},
   "source": [
    "### Functions to Compute Class Prototypes and Loss"
   ]
  },
  {
   "cell_type": "code",
   "execution_count": 177,
   "metadata": {
    "execution": {
     "iopub.execute_input": "2025-03-10T21:32:27.517362Z",
     "iopub.status.busy": "2025-03-10T21:32:27.516918Z",
     "iopub.status.idle": "2025-03-10T21:32:27.523973Z",
     "shell.execute_reply": "2025-03-10T21:32:27.522856Z",
     "shell.execute_reply.started": "2025-03-10T21:32:27.517333Z"
    },
    "trusted": true
   },
   "outputs": [],
   "source": [
    "def compute_prototypes(support_X, support_y, model):\n",
    "    with torch.no_grad():\n",
    "        embeddings = model(support_X)  # Get embeddings\n",
    "    unique_classes = torch.unique(support_y)\n",
    "    prototypes = torch.stack([embeddings[support_y.squeeze() == c].mean(0) for c in unique_classes])\n",
    "    return prototypes\n",
    "\n",
    "def compute_loss(prototypes, query_X, query_y, model):\n",
    "    query_embeddings = model(query_X)  # Get query embeddings\n",
    "    distances = torch.cdist(query_embeddings, prototypes)  # Euclidean distance\n",
    "    log_probs = F.log_softmax(-distances, dim=1)  # Convert distances to log probs\n",
    "    if query_y == None:\n",
    "        return None, log_probs\n",
    "    loss = F.nll_loss(log_probs, query_y.squeeze().long())  # Negative Log-Likelihood Loss\n",
    "    return loss, log_probs"
   ]
  },
  {
   "cell_type": "markdown",
   "metadata": {},
   "source": [
    "### Training and Evaluation Functions"
   ]
  },
  {
   "cell_type": "code",
   "execution_count": 190,
   "metadata": {
    "execution": {
     "iopub.execute_input": "2025-03-10T21:32:32.194478Z",
     "iopub.status.busy": "2025-03-10T21:32:32.194118Z",
     "iopub.status.idle": "2025-03-10T21:32:32.205781Z",
     "shell.execute_reply": "2025-03-10T21:32:32.204511Z",
     "shell.execute_reply.started": "2025-03-10T21:32:32.194452Z"
    },
    "trusted": true
   },
   "outputs": [],
   "source": [
    "def train_protonet(model, dataloader, optimizer, epochs=20):\n",
    "    model.train()\n",
    "    for epoch in range(epochs):\n",
    "        total_loss = 0\n",
    "        for support_X, support_y, query_X, query_y in dataloader:\n",
    "            optimizer.zero_grad()\n",
    "\n",
    "            # Compute and store prototypes inside the model\n",
    "            model.compute_and_store_prototypes(support_X.squeeze(0), support_y.squeeze(0))\n",
    "            \n",
    "            # Retrieve stored prototypes\n",
    "            prototypes = model.get_prototypes()\n",
    "\n",
    "            # Compute loss\n",
    "            loss, _ = compute_loss(prototypes, query_X.squeeze(0), query_y.squeeze(0), model)\n",
    "\n",
    "            # Backpropagation\n",
    "            loss.backward()\n",
    "            optimizer.step()\n",
    "\n",
    "            total_loss += loss.item()\n",
    "\n",
    "        print(f\"Epoch {epoch+1}/{epochs} - Loss: {total_loss/len(dataloader):.4f}\")\n",
    "\n",
    "# 🔥 Evaluation Loop 🔥\n",
    "def evaluate_protonet(model, dataloader, class_names=[0,1]):\n",
    "    model.eval()\n",
    "    correct, total = 0, 0\n",
    "    all_preds = []\n",
    "    all_labels = []\n",
    "\n",
    "    with torch.no_grad():\n",
    "        for _, _, query_X, query_y in dataloader:\n",
    "            prototypes = model.get_prototypes()\n",
    "            _, log_probs = compute_loss(prototypes, query_X.squeeze(0), query_y.squeeze(0), model)\n",
    "            preds = log_probs.argmax(dim=1)\n",
    "            \n",
    "            all_preds.extend(preds.cpu().numpy())\n",
    "            all_labels.extend(query_y.squeeze().cpu().numpy())\n",
    "\n",
    "            correct += (preds == query_y.squeeze()).sum().item()\n",
    "            total += query_y.numel()\n",
    "\n",
    "    accuracy = correct / total * 100\n",
    "    print(f\"Test Accuracy: {accuracy:.2f}%\")\n",
    "\n",
    "    # Compute Confusion Matrix\n",
    "    cm = confusion_matrix(all_labels, all_preds)\n",
    "\n",
    "    # Plot Confusion Matrix\n",
    "    plt.figure(figsize=(6, 5))\n",
    "    sns.heatmap(cm, annot=True, fmt=\"d\", cmap=\"Blues\", xticklabels=class_names, yticklabels=class_names)\n",
    "    plt.xlabel(\"Predicted Label\")\n",
    "    plt.ylabel(\"True Label\")\n",
    "    plt.title(\"Confusion Matrix\")\n",
    "    plt.show()"
   ]
  },
  {
   "cell_type": "markdown",
   "metadata": {},
   "source": [
    "### Implementation of Prototypical Network"
   ]
  },
  {
   "cell_type": "code",
   "execution_count": 191,
   "metadata": {
    "execution": {
     "iopub.execute_input": "2025-03-10T21:34:22.201802Z",
     "iopub.status.busy": "2025-03-10T21:34:22.201455Z",
     "iopub.status.idle": "2025-03-10T21:34:54.130221Z",
     "shell.execute_reply": "2025-03-10T21:34:54.129100Z",
     "shell.execute_reply.started": "2025-03-10T21:34:22.201778Z"
    },
    "trusted": true
   },
   "outputs": [
    {
     "name": "stdout",
     "output_type": "stream",
     "text": [
      "Epoch 1/100 - Loss: 0.6937\n",
      "Epoch 2/100 - Loss: 0.6939\n",
      "Epoch 3/100 - Loss: 0.6989\n",
      "Epoch 4/100 - Loss: 0.6958\n",
      "Epoch 5/100 - Loss: 0.6891\n",
      "Epoch 6/100 - Loss: 0.6978\n",
      "Epoch 7/100 - Loss: 0.6998\n",
      "Epoch 8/100 - Loss: 0.6933\n",
      "Epoch 9/100 - Loss: 0.6905\n",
      "Epoch 10/100 - Loss: 0.6893\n",
      "Epoch 11/100 - Loss: 0.6931\n",
      "Epoch 12/100 - Loss: 0.6885\n",
      "Epoch 13/100 - Loss: 0.6916\n",
      "Epoch 14/100 - Loss: 0.6862\n",
      "Epoch 15/100 - Loss: 0.6862\n",
      "Epoch 16/100 - Loss: 0.6812\n",
      "Epoch 17/100 - Loss: 0.6876\n",
      "Epoch 18/100 - Loss: 0.6754\n",
      "Epoch 19/100 - Loss: 0.6811\n",
      "Epoch 20/100 - Loss: 0.6771\n",
      "Epoch 21/100 - Loss: 0.6733\n",
      "Epoch 22/100 - Loss: 0.6684\n",
      "Epoch 23/100 - Loss: 0.6726\n",
      "Epoch 24/100 - Loss: 0.6702\n",
      "Epoch 25/100 - Loss: 0.6620\n",
      "Epoch 26/100 - Loss: 0.6599\n",
      "Epoch 27/100 - Loss: 0.6565\n",
      "Epoch 28/100 - Loss: 0.6611\n",
      "Epoch 29/100 - Loss: 0.6494\n",
      "Epoch 30/100 - Loss: 0.6311\n",
      "Epoch 31/100 - Loss: 0.6324\n",
      "Epoch 32/100 - Loss: 0.6310\n",
      "Epoch 33/100 - Loss: 0.6066\n",
      "Epoch 34/100 - Loss: 0.6274\n",
      "Epoch 35/100 - Loss: 0.6216\n",
      "Epoch 36/100 - Loss: 0.6127\n",
      "Epoch 37/100 - Loss: 0.6022\n",
      "Epoch 38/100 - Loss: 0.5829\n",
      "Epoch 39/100 - Loss: 0.6110\n",
      "Epoch 40/100 - Loss: 0.5896\n",
      "Epoch 41/100 - Loss: 0.5657\n",
      "Epoch 42/100 - Loss: 0.5685\n",
      "Epoch 43/100 - Loss: 0.5587\n",
      "Epoch 44/100 - Loss: 0.5737\n",
      "Epoch 45/100 - Loss: 0.5409\n",
      "Epoch 46/100 - Loss: 0.5363\n",
      "Epoch 47/100 - Loss: 0.5091\n",
      "Epoch 48/100 - Loss: 0.5225\n",
      "Epoch 49/100 - Loss: 0.5224\n",
      "Epoch 50/100 - Loss: 0.4730\n",
      "Epoch 51/100 - Loss: 0.4884\n",
      "Epoch 52/100 - Loss: 0.4993\n",
      "Epoch 53/100 - Loss: 0.4800\n",
      "Epoch 54/100 - Loss: 0.4945\n",
      "Epoch 55/100 - Loss: 0.4588\n",
      "Epoch 56/100 - Loss: 0.4897\n",
      "Epoch 57/100 - Loss: 0.4945\n",
      "Epoch 58/100 - Loss: 0.4964\n",
      "Epoch 59/100 - Loss: 0.4247\n",
      "Epoch 60/100 - Loss: 0.4456\n",
      "Epoch 61/100 - Loss: 0.4460\n",
      "Epoch 62/100 - Loss: 0.4159\n",
      "Epoch 63/100 - Loss: 0.4436\n",
      "Epoch 64/100 - Loss: 0.4479\n",
      "Epoch 65/100 - Loss: 0.4347\n",
      "Epoch 66/100 - Loss: 0.4302\n",
      "Epoch 67/100 - Loss: 0.4948\n",
      "Epoch 68/100 - Loss: 0.4313\n",
      "Epoch 69/100 - Loss: 0.4370\n",
      "Epoch 70/100 - Loss: 0.4210\n",
      "Epoch 71/100 - Loss: 0.4451\n",
      "Epoch 72/100 - Loss: 0.3956\n",
      "Epoch 73/100 - Loss: 0.4017\n",
      "Epoch 74/100 - Loss: 0.3990\n",
      "Epoch 75/100 - Loss: 0.4366\n",
      "Epoch 76/100 - Loss: 0.4125\n",
      "Epoch 77/100 - Loss: 0.3577\n",
      "Epoch 78/100 - Loss: 0.3739\n",
      "Epoch 79/100 - Loss: 0.3912\n",
      "Epoch 80/100 - Loss: 0.4011\n",
      "Epoch 81/100 - Loss: 0.3562\n",
      "Epoch 82/100 - Loss: 0.3632\n",
      "Epoch 83/100 - Loss: 0.4065\n",
      "Epoch 84/100 - Loss: 0.3576\n",
      "Epoch 85/100 - Loss: 0.3675\n",
      "Epoch 86/100 - Loss: 0.4016\n",
      "Epoch 87/100 - Loss: 0.3954\n",
      "Epoch 88/100 - Loss: 0.3751\n",
      "Epoch 89/100 - Loss: 0.4226\n",
      "Epoch 90/100 - Loss: 0.4121\n",
      "Epoch 91/100 - Loss: 0.3221\n",
      "Epoch 92/100 - Loss: 0.4142\n",
      "Epoch 93/100 - Loss: 0.3470\n",
      "Epoch 94/100 - Loss: 0.3936\n",
      "Epoch 95/100 - Loss: 0.3973\n",
      "Epoch 96/100 - Loss: 0.3380\n",
      "Epoch 97/100 - Loss: 0.3710\n",
      "Epoch 98/100 - Loss: 0.3409\n",
      "Epoch 99/100 - Loss: 0.2996\n",
      "Epoch 100/100 - Loss: 0.3722\n",
      "Test Accuracy: 95.50%\n"
     ]
    },
    {
     "data": {
      "image/png": "[encoded data removed]",
      "text/plain": [
       "<Figure size 600x500 with 2 Axes>"
      ]
     },
     "metadata": {},
     "output_type": "display_data"
    }
   ],
   "source": [
    "# Load Dataset & DataLoader\n",
    "input_dim = dft.shape[1] - 1  # Number of features (excluding label)\n",
    "episodic_dataset = EpisodicTabularDataset(dft, num_episodes=100, support_size=5, query_size=5)\n",
    "train_loader = DataLoader(episodic_dataset, batch_size=1, shuffle=True)\n",
    "\n",
    "# Initialize Model & Optimizer\n",
    "model = ProtoNet(input_dim)\n",
    "optimizer = optim.Adam(model.parameters(), lr=0.0001)\n",
    "\n",
    "# Train the model\n",
    "train_protonet(model, train_loader, optimizer, epochs=100)\n",
    "\n",
    "# Evaluate the model\n",
    "evaluate_protonet(model, train_loader)"
   ]
  },
  {
   "cell_type": "markdown",
   "metadata": {},
   "source": [
    "### Predicting on Test Data"
   ]
  },
  {
   "cell_type": "code",
   "execution_count": 192,
   "metadata": {},
   "outputs": [],
   "source": [
    "with open('protonet_model.pkl', 'wb') as file:\n",
    "    pickle.dump(model, file)"
   ]
  },
  {
   "cell_type": "code",
   "execution_count": 193,
   "metadata": {},
   "outputs": [],
   "source": [
    "torch.save(model.state_dict(), \"protonet.pth\")"
   ]
  },
  {
   "cell_type": "code",
   "execution_count": 194,
   "metadata": {},
   "outputs": [],
   "source": [
    "model = ProtoNet(input_dim)"
   ]
  },
  {
   "cell_type": "code",
   "execution_count": 195,
   "metadata": {},
   "outputs": [
    {
     "name": "stderr",
     "output_type": "stream",
     "text": [
      "/var/folders/sl/kmcbrl6d3m72vgm_37_mw72w0000gn/T/ipykernel_20851/3481822368.py:1: FutureWarning: You are using `torch.load` with `weights_only=False` (the current default value), which uses the default pickle module implicitly. It is possible to construct malicious pickle data which will execute arbitrary code during unpickling (See https://github.com/pytorch/pytorch/blob/main/SECURITY.md#untrusted-models for more details). In a future release, the default value for `weights_only` will be flipped to `True`. This limits the functions that could be executed during unpickling. Arbitrary objects will no longer be allowed to be loaded via this mode unless they are explicitly allowlisted by the user via `torch.serialization.add_safe_globals`. We recommend you start setting `weights_only=True` for any use case where you don't have full control of the loaded file. Please open an issue on GitHub for any issues related to this experimental feature.\n",
      "  model.load_state_dict(torch.load(\"protonet.pth\"))\n"
     ]
    },
    {
     "data": {
      "text/plain": [
       "ProtoNet(\n",
       "  (fc): Sequential(\n",
       "    (0): Linear(in_features=64, out_features=128, bias=True)\n",
       "    (1): Dropout(p=0.2, inplace=False)\n",
       "    (2): ReLU()\n",
       "    (3): BatchNorm1d(128, eps=1e-05, momentum=0.1, affine=True, track_running_stats=True)\n",
       "    (4): Linear(in_features=128, out_features=64, bias=True)\n",
       "    (5): Dropout(p=0.2, inplace=False)\n",
       "    (6): ReLU()\n",
       "    (7): Linear(in_features=64, out_features=32, bias=True)\n",
       "  )\n",
       ")"
      ]
     },
     "execution_count": 195,
     "metadata": {},
     "output_type": "execute_result"
    }
   ],
   "source": [
    "model.load_state_dict(torch.load(\"protonet.pth\"))\n",
    "model.eval()"
   ]
  },
  {
   "cell_type": "code",
   "execution_count": 196,
   "metadata": {},
   "outputs": [],
   "source": [
    "prototypes = model.get_prototypes()"
   ]
  },
  {
   "cell_type": "code",
   "execution_count": 197,
   "metadata": {},
   "outputs": [],
   "source": [
    "df_test = pd.DataFrame()"
   ]
  },
  {
   "cell_type": "code",
   "execution_count": 198,
   "metadata": {},
   "outputs": [],
   "source": [
    "import torch\n",
    "import pandas as pd\n",
    "from torch.utils.data import DataLoader\n",
    "\n",
    "def df_to_tensors(df):\n",
    "    if 'OE_Quality_Flag' not in df.columns:\n",
    "        X = torch.tensor(df.values, dtype=torch.float32)\n",
    "        y = torch.tensor(pd.DataFrame({'a':123}).values, dtype=torch.long)\n",
    "        return X\n",
    "    X = torch.tensor(df.drop(columns=['OE_Quality_Flag']).values, dtype=torch.float32)\n",
    "    y = torch.tensor(df['OE_Quality_Flag'].values, dtype=torch.long)\n",
    "    return X, y"
   ]
  },
  {
   "cell_type": "code",
   "execution_count": 199,
   "metadata": {},
   "outputs": [],
   "source": [
    "query_X, _ = df_to_tensors(test_df)"
   ]
  },
  {
   "cell_type": "code",
   "execution_count": 200,
   "metadata": {},
   "outputs": [],
   "source": [
    "def predict_protonet_ordered(model, prototypes, query_X):\n",
    "    model.eval()  # Set model to evaluation mode\n",
    "\n",
    "    # Compute class prototypes from support set\n",
    "    prototypes = prototypes\n",
    "\n",
    "    # Compute class probabilities for the query set\n",
    "    _, log_probs = compute_loss(prototypes, query_X, None, model)\n",
    "\n",
    "    # Get predictions (keeping order)\n",
    "    preds = log_probs.argmax(dim=1).cpu().numpy()\n",
    "\n",
    "    return preds"
   ]
  },
  {
   "cell_type": "code",
   "execution_count": 201,
   "metadata": {},
   "outputs": [
    {
     "name": "stdout",
     "output_type": "stream",
     "text": [
      "           Q1.   Q6   Flavored/Mixed Beer   Non-Alcoholic Beers   Hard Ciders  \\\n",
      "1241 -0.378837  0.0              1.210433              2.405406      1.567408   \n",
      "1889 -0.880528  0.0             -0.826151             -0.415730     -0.637996   \n",
      "708  -0.713298  0.0              1.210433             -0.415730     -0.637996   \n",
      "594   0.708160  0.0             -0.826151             -0.415730     -0.637996   \n",
      "2129  1.126235  0.0             -0.826151             -0.415730     -0.637996   \n",
      "\n",
      "       Hard Kombucha      Wine   Hard Beverage   Distilled Spirits       Q7.  \\\n",
      "1241        2.532849  0.879423        1.073963            0.734106  0.873604   \n",
      "1889       -0.394812  0.879423       -0.931131            0.734106  0.873604   \n",
      "708        -0.394812  0.879423        1.073963            0.734106  0.873604   \n",
      "594        -0.394812 -1.137109       -0.931131            0.734106 -1.144684   \n",
      "2129       -0.394812  0.879423       -0.931131            0.734106  0.873604   \n",
      "\n",
      "      ...  Q14.bin0  Q14.bin1  Q14.bin2  Q15.bin0  Q15.bin1  Q15.bin2  \\\n",
      "1241  ... -0.508652 -0.783044  0.868776 -0.237254  1.066945  0.837378   \n",
      "1889  ... -0.508652  1.277067  0.868776 -0.237254  1.066945 -1.194203   \n",
      "708   ...  1.965981 -0.783044 -1.151045 -0.237254  1.066945 -1.194203   \n",
      "594   ... -0.508652  1.277067  0.868776 -0.237254  1.066945  0.837378   \n",
      "2129  ... -0.508652 -0.783044  0.868776 -0.237254 -0.937255  0.837378   \n",
      "\n",
      "      Q15.bin3  Q17.bin0  Q17.bin1  OE_Quality_Flag  \n",
      "1241 -0.962109  2.369622 -0.828015                0  \n",
      "1889 -0.962109  2.369622 -0.828015                1  \n",
      "708   1.039383 -0.422008 -0.828015                0  \n",
      "594  -0.962109 -0.422008 -0.828015                0  \n",
      "2129  1.039383 -0.422008  1.207707                0  \n",
      "\n",
      "[5 rows x 65 columns]\n"
     ]
    }
   ],
   "source": [
    "# Get ordered predictions for test data\n",
    "test_predictions = predict_protonet_ordered(model, prototypes, query_X)\n",
    "\n",
    "# Add predictions to test DataFrame\n",
    "test_df['OE_Quality_Flag'] = test_predictions\n",
    "\n",
    "# Display predicted DataFrame\n",
    "print(test_df.head())"
   ]
  },
  {
   "cell_type": "code",
   "execution_count": null,
   "metadata": {},
   "outputs": [],
   "source": []
  }
 ],
 "metadata": {
  "kaggle": {
   "accelerator": "none",
   "dataSources": [
    {
     "datasetId": 6829945,
     "sourceId": 10976069,
     "sourceType": "datasetVersion"
    }
   ],
   "dockerImageVersionId": 30918,
   "isGpuEnabled": false,
   "isInternetEnabled": true,
   "language": "python",
   "sourceType": "notebook"
  },
  "kernelspec": {
   "display_name": "Python 3",
   "language": "python",
   "name": "python3"
  },
  "language_info": {
   "codemirror_mode": {
    "name": "ipython",
    "version": 3
   },
   "file_extension": ".py",
   "mimetype": "text/x-python",
   "name": "python",
   "nbconvert_exporter": "python",
   "pygments_lexer": "ipython3",
   "version": "3.10.11"
  }
 },
 "nbformat": 4,
 "nbformat_minor": 4
}
